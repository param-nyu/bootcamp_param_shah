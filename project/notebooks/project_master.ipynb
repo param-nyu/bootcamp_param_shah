{
 "cells": [
  {
   "cell_type": "markdown",
   "id": "bb0bfebb",
   "metadata": {},
   "source": [
    "# Smart ETF: Mimic SOXX with a Small Subset of Constituents\n",
    "\n",
    "**Objective.** Build a feasible pipeline to approximate the performance of **SOXX (iShares Semiconductor ETF)** using a much smaller subset of its constituents (e.g., 3–10 names) with price-only data from free sources (e.g., `yfinance`).\n",
    "\n",
    "**Constraints.**\n",
    "- Data: Free OHLCV + corporate actions via `yfinance` (dividends/splits). Limited fundamentals may exist but are not guaranteed.\n",
    "- Focus: U.S. markets, semiconductors (SOXX).\n",
    "\n",
    "**Approach.**\n",
    "1. Acquire SOXX + constituent prices (daily adjusted close).\n",
    "2. Engineer market-based features (momentum, volatility, beta, liquidity proxies).\n",
    "3. Calibrate a low-cardinality linear tracker (OLS/LASSO) → *Smart ETF weights*.\n",
    "4. Evaluate tracking error, correlation, stability, and risk.\n",
    "5. Communicate assumptions and caveats responsibly.\n",
    "\n",
    "> **Delivery reminder:** This master notebook is structured in **12 stages**, each with clear markdown guidance and runnable code stubs.\n"
   ]
  },
  {
   "cell_type": "markdown",
   "id": "c60a8954",
   "metadata": {},
   "source": [
    "\n",
    "## Table of Contents\n",
    "1. [stage01 — problem-framing-and-scoping](#stage01)\n",
    "2. [stage02 — tooling-setup & slides-outline](#stage02)\n",
    "3. [stage03 — python-fundamentals](#stage03)\n",
    "4. [stage04 — data-acquisition-and-ingestion](#stage04)\n",
    "5. [stage05 — data-storage](#stage05)\n",
    "6. [stage06 — data-preprocessing](#stage06)\n"
   ]
  },
  {
   "cell_type": "markdown",
   "id": "6dc7aa4c",
   "metadata": {},
   "source": [
    "# stage01_problem-framing-and-scoping\n",
    "<a id='stage01'></a>\n",
    "\n",
    "**Goal.** Approximate **SOXX** daily performance using a **small subset of its holdings** via price-based features and linear models.  \n",
    "**Primary KPIs.**\n",
    "- **Correlation** between ETF and Smart ETF daily returns (↑).\n",
    "- **R²** of regression (↑).\n",
    "- **Tracking error** (annualized std of return differences) (↓).\n",
    "- **Cumulative performance gap** over the backtest (≈ 0).\n",
    "\n",
    "**Scope & Feasibility.**\n",
    "- **In-scope:** SOXX + (top N) semis; daily Adj Close; 2015–present (tunable).\n",
    "- **Out-of-scope (for now):** Full accounting data, transaction costs, taxes, intraday microstructure.\n",
    "\n",
    "**Assumptions (declare explicitly):**\n",
    "- Rebalance schedule (e.g., monthly/quarterly) is fixed and rule-based.\n",
    "- Survivorship bias risk acknowledged; holdings list frozen to current top names for the backtest unless historical holdings are sourced explicitly.\n",
    "- Dividends approximated via adjusted close; explicit dividend modeling omitted.\n",
    "\n",
    "**Success Criteria.**\n",
    "- Using ≤ 5–10 names achieves corr ≥ 0.9 and annualized tracking error ≤ 2–3% (targets are adjustable).\n"
   ]
  },
  {
   "cell_type": "markdown",
   "id": "c54c4853",
   "metadata": {},
   "source": [
    "# stage02_tooling-setup_slides-outline\n",
    "<a id='stage02'></a>\n",
    "\n",
    "**Environment & Libraries.**\n",
    "- Core: `python`, `pandas`, `numpy`, `matplotlib`, `scikit-learn`, `statsmodels`, `yfinance`, `pyyaml`.\n"
   ]
  },
  {
   "cell_type": "code",
   "execution_count": 1,
   "id": "16274689",
   "metadata": {},
   "outputs": [
    {
     "name": "stdout",
     "output_type": "stream",
     "text": [
      "Requirement already satisfied: yfinance in /opt/miniconda3/envs/bootcamp_env/lib/python3.10/site-packages (0.2.65)\n",
      "Requirement already satisfied: pandas in /opt/miniconda3/envs/bootcamp_env/lib/python3.10/site-packages (2.3.1)\n",
      "Requirement already satisfied: numpy in /opt/miniconda3/envs/bootcamp_env/lib/python3.10/site-packages (2.2.6)\n",
      "Requirement already satisfied: matplotlib in /opt/miniconda3/envs/bootcamp_env/lib/python3.10/site-packages (3.10.5)\n",
      "Requirement already satisfied: scikit-learn in /opt/miniconda3/envs/bootcamp_env/lib/python3.10/site-packages (1.7.1)\n",
      "Requirement already satisfied: statsmodels in /opt/miniconda3/envs/bootcamp_env/lib/python3.10/site-packages (0.14.5)\n",
      "Requirement already satisfied: pyyaml in /opt/miniconda3/envs/bootcamp_env/lib/python3.10/site-packages (6.0.2)\n",
      "Requirement already satisfied: openpyxl in /opt/miniconda3/envs/bootcamp_env/lib/python3.10/site-packages (3.1.5)\n",
      "Requirement already satisfied: requests>=2.31 in /opt/miniconda3/envs/bootcamp_env/lib/python3.10/site-packages (from yfinance) (2.32.4)\n",
      "Requirement already satisfied: multitasking>=0.0.7 in /opt/miniconda3/envs/bootcamp_env/lib/python3.10/site-packages (from yfinance) (0.0.12)\n",
      "Requirement already satisfied: platformdirs>=2.0.0 in /opt/miniconda3/envs/bootcamp_env/lib/python3.10/site-packages (from yfinance) (4.3.8)\n",
      "Requirement already satisfied: pytz>=2022.5 in /opt/miniconda3/envs/bootcamp_env/lib/python3.10/site-packages (from yfinance) (2025.2)\n",
      "Requirement already satisfied: frozendict>=2.3.4 in /opt/miniconda3/envs/bootcamp_env/lib/python3.10/site-packages (from yfinance) (2.4.6)\n",
      "Requirement already satisfied: peewee>=3.16.2 in /opt/miniconda3/envs/bootcamp_env/lib/python3.10/site-packages (from yfinance) (3.18.2)\n",
      "Requirement already satisfied: beautifulsoup4>=4.11.1 in /opt/miniconda3/envs/bootcamp_env/lib/python3.10/site-packages (from yfinance) (4.13.4)\n",
      "Requirement already satisfied: curl_cffi>=0.7 in /opt/miniconda3/envs/bootcamp_env/lib/python3.10/site-packages (from yfinance) (0.13.0)\n",
      "Requirement already satisfied: protobuf>=3.19.0 in /opt/miniconda3/envs/bootcamp_env/lib/python3.10/site-packages (from yfinance) (6.32.0)\n",
      "Requirement already satisfied: websockets>=13.0 in /opt/miniconda3/envs/bootcamp_env/lib/python3.10/site-packages (from yfinance) (15.0.1)\n",
      "Requirement already satisfied: python-dateutil>=2.8.2 in /opt/miniconda3/envs/bootcamp_env/lib/python3.10/site-packages (from pandas) (2.9.0.post0)\n",
      "Requirement already satisfied: tzdata>=2022.7 in /opt/miniconda3/envs/bootcamp_env/lib/python3.10/site-packages (from pandas) (2025.2)\n",
      "Requirement already satisfied: contourpy>=1.0.1 in /opt/miniconda3/envs/bootcamp_env/lib/python3.10/site-packages (from matplotlib) (1.3.2)\n",
      "Requirement already satisfied: cycler>=0.10 in /opt/miniconda3/envs/bootcamp_env/lib/python3.10/site-packages (from matplotlib) (0.12.1)\n",
      "Requirement already satisfied: fonttools>=4.22.0 in /opt/miniconda3/envs/bootcamp_env/lib/python3.10/site-packages (from matplotlib) (4.59.1)\n",
      "Requirement already satisfied: kiwisolver>=1.3.1 in /opt/miniconda3/envs/bootcamp_env/lib/python3.10/site-packages (from matplotlib) (1.4.9)\n",
      "Requirement already satisfied: packaging>=20.0 in /opt/miniconda3/envs/bootcamp_env/lib/python3.10/site-packages (from matplotlib) (25.0)\n",
      "Requirement already satisfied: pillow>=8 in /opt/miniconda3/envs/bootcamp_env/lib/python3.10/site-packages (from matplotlib) (11.3.0)\n",
      "Requirement already satisfied: pyparsing>=2.3.1 in /opt/miniconda3/envs/bootcamp_env/lib/python3.10/site-packages (from matplotlib) (3.2.3)\n",
      "Requirement already satisfied: scipy>=1.8.0 in /opt/miniconda3/envs/bootcamp_env/lib/python3.10/site-packages (from scikit-learn) (1.15.3)\n",
      "Requirement already satisfied: joblib>=1.2.0 in /opt/miniconda3/envs/bootcamp_env/lib/python3.10/site-packages (from scikit-learn) (1.5.1)\n",
      "Requirement already satisfied: threadpoolctl>=3.1.0 in /opt/miniconda3/envs/bootcamp_env/lib/python3.10/site-packages (from scikit-learn) (3.6.0)\n",
      "Requirement already satisfied: patsy>=0.5.6 in /opt/miniconda3/envs/bootcamp_env/lib/python3.10/site-packages (from statsmodels) (1.0.1)\n",
      "Requirement already satisfied: et-xmlfile in /opt/miniconda3/envs/bootcamp_env/lib/python3.10/site-packages (from openpyxl) (2.0.0)\n",
      "Requirement already satisfied: soupsieve>1.2 in /opt/miniconda3/envs/bootcamp_env/lib/python3.10/site-packages (from beautifulsoup4>=4.11.1->yfinance) (2.7)\n",
      "Requirement already satisfied: typing-extensions>=4.0.0 in /opt/miniconda3/envs/bootcamp_env/lib/python3.10/site-packages (from beautifulsoup4>=4.11.1->yfinance) (4.14.1)\n",
      "Requirement already satisfied: cffi>=1.12.0 in /opt/miniconda3/envs/bootcamp_env/lib/python3.10/site-packages (from curl_cffi>=0.7->yfinance) (1.17.1)\n",
      "Requirement already satisfied: certifi>=2024.2.2 in /opt/miniconda3/envs/bootcamp_env/lib/python3.10/site-packages (from curl_cffi>=0.7->yfinance) (2025.8.3)\n",
      "Requirement already satisfied: pycparser in /opt/miniconda3/envs/bootcamp_env/lib/python3.10/site-packages (from cffi>=1.12.0->curl_cffi>=0.7->yfinance) (2.22)\n",
      "Requirement already satisfied: six>=1.5 in /opt/miniconda3/envs/bootcamp_env/lib/python3.10/site-packages (from python-dateutil>=2.8.2->pandas) (1.17.0)\n",
      "Requirement already satisfied: charset_normalizer<4,>=2 in /opt/miniconda3/envs/bootcamp_env/lib/python3.10/site-packages (from requests>=2.31->yfinance) (3.4.3)\n",
      "Requirement already satisfied: idna<4,>=2.5 in /opt/miniconda3/envs/bootcamp_env/lib/python3.10/site-packages (from requests>=2.31->yfinance) (3.10)\n",
      "Requirement already satisfied: urllib3<3,>=1.21.1 in /opt/miniconda3/envs/bootcamp_env/lib/python3.10/site-packages (from requests>=2.31->yfinance) (2.5.0)\n"
     ]
    }
   ],
   "source": [
    "# install if running locally\n",
    "!pip install yfinance pandas numpy matplotlib scikit-learn statsmodels pyyaml openpyxl"
   ]
  },
  {
   "cell_type": "code",
   "execution_count": 7,
   "id": "70ae0b6c",
   "metadata": {},
   "outputs": [
    {
     "name": "stdout",
     "output_type": "stream",
     "text": [
      "Setup complete. Folders: /Users/paramshah/Desktop/Bootcamp/project/notebooks/data /Users/paramshah/Desktop/Bootcamp/project/notebooks/figures\n"
     ]
    }
   ],
   "source": [
    "import os, sys, math, json, time, datetime as dt, warnings\n",
    "from dataclasses import dataclass\n",
    "import numpy as np\n",
    "import pandas as pd\n",
    "import matplotlib.pyplot as plt\n",
    "\n",
    "warnings.filterwarnings('ignore')\n",
    "\n",
    "# paths\n",
    "PROJECT_ROOT = os.getcwd()\n",
    "DATA_DIR = os.path.join(PROJECT_ROOT, 'data')\n",
    "FIG_DIR = os.path.join(PROJECT_ROOT, 'figures')\n",
    "os.makedirs(DATA_DIR, exist_ok=True)\n",
    "os.makedirs(FIG_DIR, exist_ok=True)\n",
    "\n",
    "np.random.seed(69)\n",
    "\n",
    "print('Setup complete. Folders:', DATA_DIR, FIG_DIR)"
   ]
  },
  {
   "cell_type": "markdown",
   "id": "d45fc594",
   "metadata": {},
   "source": [
    "# stage03_python-fundamentals\n",
    "<a id='stage03'></a>"
   ]
  },
  {
   "cell_type": "code",
   "execution_count": 3,
   "id": "647e4b3b",
   "metadata": {},
   "outputs": [
    {
     "name": "stdout",
     "output_type": "stream",
     "text": [
      "Prices\n",
      " 2020-01-01    100\n",
      "2020-01-02    101\n",
      "2020-01-03     98\n",
      "2020-01-04     99\n",
      "2020-01-05    102\n",
      "Freq: D, dtype: int64\n",
      "Simple returns\n",
      " 2020-01-01         NaN\n",
      "2020-01-02    0.010000\n",
      "2020-01-03   -0.029703\n",
      "2020-01-04    0.010204\n",
      "2020-01-05    0.030303\n",
      "Freq: D, dtype: float64\n",
      "Log returns\n",
      " 2020-01-01         NaN\n",
      "2020-01-02    0.009950\n",
      "2020-01-03   -0.030153\n",
      "2020-01-04    0.010152\n",
      "2020-01-05    0.029853\n",
      "Freq: D, dtype: float64\n"
     ]
    }
   ],
   "source": [
    "# daily simple returns from prices\n",
    "def simple_returns(prices: pd.Series) -> pd.Series:\n",
    "    r = prices.pct_change()\n",
    "    return r\n",
    "\n",
    "def log_returns(prices: pd.Series) -> pd.Series:\n",
    "    lr = np.log(prices).diff()\n",
    "    return lr\n",
    "\n",
    "# example stub\n",
    "_demo = pd.Series([100, 101, 98, 99, 102], index=pd.date_range('2020-01-01', periods=5, freq='D'))\n",
    "print('Prices\\n', _demo)\n",
    "print('Simple returns\\n', simple_returns(_demo))\n",
    "print('Log returns\\n', log_returns(_demo))"
   ]
  },
  {
   "cell_type": "markdown",
   "id": "fe21d50f",
   "metadata": {},
   "source": [
    "# stage04_data-acquisition-and-ingestion\n",
    "<a id='stage04'></a>\n",
    "\n",
    "We’ll pull **SOXX** and a curated subset of **semiconductor constituents** from `yfinance`.  \n",
    "> Note: `yfinance` provides ETF prices directly. Holdings are not always programmatically available for free historically; we **parameterize** a curated list (top names) and store it in YAML/JSON for reproducibility.\n",
    "\n",
    "**Chosen baseline tickers (adjust as needed):**\n",
    "- ETF: `SOXX`\n",
    "- Candidates (subset of semis): `NVDA, AVGO, TSM, AMD, INTC, QCOM, TXN, ASML, MU, ADI`\n",
    "- Chose YAML for better readability than json.\n",
    "- Chose parquet instead of csv just for faster read/write functionality.\n",
    "\n",
    "**Date range:** 2010-01-01 → today (configurable).\n"
   ]
  },
  {
   "cell_type": "code",
   "execution_count": 4,
   "id": "8741bad1",
   "metadata": {},
   "outputs": [
    {
     "name": "stdout",
     "output_type": "stream",
     "text": [
      "ETF price shape: (3934, 1)\n",
      "Stocks price shape: (3934, 9)\n"
     ]
    }
   ],
   "source": [
    "import yaml\n",
    "import datetime as dt\n",
    "import yfinance as yf\n",
    "\n",
    "CONFIG = {\n",
    "    'etf': 'SOXX',\n",
    "    'candidates': ['AVGO','TSM','AMD','INTC','QCOM','TXN','ASML','MU','ADI'],\n",
    "    #'NVDA' excluded nvidia because it's rise is a bit too much, if we include that then we dont need any other constituents\n",
    "    'start': '2010-01-01',\n",
    "    'end': None,\n",
    "    'price_field': 'Adj Close'\n",
    "}\n",
    "\n",
    "# Save config for reproducibility\n",
    "with open(os.path.join(DATA_DIR, 'config_soxx.yml'), 'w') as f:\n",
    "    yaml.safe_dump(CONFIG, f)\n",
    "\n",
    "def fetch_prices(tickers, start, end=None, price_field='Adj Close') -> pd.DataFrame:\n",
    "    \"\"\"Download price panel for tickers; returns a DataFrame of the chosen price field.\"\"\"\n",
    "    df = yf.download(tickers, start=start, end=end, auto_adjust=False, progress=False)\n",
    "    # If single ticker, yfinance returns a different shape; standardize:\n",
    "    if isinstance(tickers, str) or (hasattr(tickers, '__len__') and not isinstance(tickers, str) and len(tickers) == 1):\n",
    "        df = df[[price_field]].rename(columns={price_field: tickers if isinstance(tickers, str) else tickers[0]})\n",
    "    else:\n",
    "        df = df[price_field]\n",
    "    return df\n",
    "\n",
    "etf_prices = fetch_prices(CONFIG['etf'], CONFIG['start'], CONFIG['end'], CONFIG['price_field'])\n",
    "stock_prices = fetch_prices(CONFIG['candidates'], CONFIG['start'], CONFIG['end'], CONFIG['price_field'])\n",
    "\n",
    "print('ETF price shape:', etf_prices.shape)\n",
    "print('Stocks price shape:', stock_prices.shape)\n",
    "\n",
    "etf_prices.to_parquet(os.path.join(DATA_DIR, 'soxx_prices_raw.parquet'))\n",
    "stock_prices.to_parquet(os.path.join(DATA_DIR, 'semi_prices_raw.parquet'))"
   ]
  },
  {
   "cell_type": "markdown",
   "id": "639bdac0",
   "metadata": {},
   "source": [
    "# stage05_data-storage\n",
    "<a id='stage05'></a>\n",
    "\n",
    "We store **raw** and **processed** tables separately and maintain a **data dictionary** (YAML).  \n",
    "- Raw: `data/*_raw.parquet`\n",
    "- Processed: `data/*_proc.parquet`\n",
    "- Metadata: `data/datadict.yml`\n"
   ]
  },
  {
   "cell_type": "code",
   "execution_count": 5,
   "id": "81382170",
   "metadata": {},
   "outputs": [
    {
     "name": "stdout",
     "output_type": "stream",
     "text": [
      "Wrote data dictionary to /Users/paramshah/Desktop/Bootcamp/project/notebooks/data/datadict.yml\n"
     ]
    }
   ],
   "source": [
    "datadict = {\n",
    "    'tables': {\n",
    "        'soxx_prices_raw': {'path': 'data/soxx_prices_raw.parquet', 'keys': ['date'], 'description': 'Daily Adj Close for SOXX'},\n",
    "        'semi_prices_raw': {'path': 'data/semi_prices_raw.parquet', 'keys': ['date','ticker'], 'description': 'Daily Adj Close for selected semiconductor stocks'}\n",
    "    },\n",
    "    'notes': 'All prices pulled via yfinance; adjusted close used for return calculations.'\n",
    "}\n",
    "with open(os.path.join(DATA_DIR, 'datadict.yml'), 'w') as f:\n",
    "    yaml.safe_dump(datadict, f)\n",
    "\n",
    "print('Wrote data dictionary to', os.path.join(DATA_DIR, 'datadict.yml'))"
   ]
  },
  {
   "cell_type": "markdown",
   "id": "b864761b",
   "metadata": {},
   "source": [
    "# stage06_data-preprocessing\n",
    "<a id='stage06'></a>\n",
    "\n",
    "**Tasks.**\n",
    "- align calendars (outer-join then forward-fill if necessary, or inner-join intersection).\n",
    "- handle missing values (drop early NaNs, forward-fill sporadic gaps cautiously).\n",
    "- compute daily returns from adjusted close.\n",
    "\n",
    "**Decision:** for comparability, we **inner-join** on dates available for all series; report dropped periods.\n"
   ]
  },
  {
   "cell_type": "code",
   "execution_count": 6,
   "id": "ebdbc62b",
   "metadata": {},
   "outputs": [
    {
     "name": "stdout",
     "output_type": "stream",
     "text": [
      "Initial shape: (3934, 10)  -> after dropna: (3934, 10)\n",
      "Saved processed price & returns tables.\n"
     ]
    }
   ],
   "source": [
    "etf_raw = pd.read_parquet(os.path.join(DATA_DIR, 'soxx_prices_raw.parquet'))\n",
    "\n",
    "col = CONFIG['etf']\n",
    "etf = etf_raw[col]\n",
    "\n",
    "if etf.shape[1] == 1:  # if single column\n",
    "    etf = etf.iloc[:, 0].rename(\"SOXX\")\n",
    "\n",
    "\n",
    "semi = pd.read_parquet(os.path.join(DATA_DIR, 'semi_prices_raw.parquet'))\n",
    "\n",
    "# align on common dates\n",
    "df_prices = pd.concat([etf, semi], axis=1)\n",
    "initial_shape = df_prices.shape\n",
    "df_prices = df_prices.dropna(how='any')\n",
    "\n",
    "print('Initial shape:', initial_shape, ' -> after dropna:', df_prices.shape)\n",
    "\n",
    "# compute daily returns\n",
    "rets = df_prices.pct_change().dropna()\n",
    "rets.columns.name = None\n",
    "\n",
    "# split into etf returns (target) and stock returns (features)\n",
    "r_etf = rets['SOXX'].rename('r_etf')\n",
    "r_stk = rets.drop(columns=['SOXX'])\n",
    "\n",
    "df_prices.to_parquet(os.path.join(DATA_DIR, 'prices_proc.parquet'))\n",
    "rets.to_parquet(os.path.join(DATA_DIR, 'returns_proc.parquet'))\n",
    "print('Saved processed price & returns tables.')"
   ]
  },
  {
   "cell_type": "code",
   "execution_count": null,
   "id": "b1428c0d",
   "metadata": {},
   "outputs": [],
   "source": []
  },
  {
   "cell_type": "code",
   "execution_count": null,
   "id": "27c684e1",
   "metadata": {},
   "outputs": [],
   "source": []
  }
 ],
 "metadata": {
  "authors": [
   {
    "name": "ChatGPT (GPT-5 Thinking)"
   }
  ],
  "kernelspec": {
   "display_name": "bootcamp_env",
   "language": "python",
   "name": "bootcamp_env"
  },
  "language_info": {
   "codemirror_mode": {
    "name": "ipython",
    "version": 3
   },
   "file_extension": ".py",
   "mimetype": "text/x-python",
   "name": "python",
   "nbconvert_exporter": "python",
   "pygments_lexer": "ipython3",
   "version": "3.10.18"
  }
 },
 "nbformat": 4,
 "nbformat_minor": 5
}
