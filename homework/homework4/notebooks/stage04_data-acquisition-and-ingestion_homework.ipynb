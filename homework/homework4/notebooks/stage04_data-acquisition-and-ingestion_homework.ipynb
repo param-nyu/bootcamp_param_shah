{
 "cells": [
  {
   "cell_type": "code",
   "execution_count": 17,
   "id": "cd0186bb-474f-4466-8488-95383b62df35",
   "metadata": {},
   "outputs": [
    {
     "name": "stdout",
     "output_type": "stream",
     "text": [
      "Collecting lxml\n",
      "  Downloading lxml-6.0.0-cp310-cp310-macosx_10_9_universal2.whl.metadata (6.6 kB)\n",
      "Downloading lxml-6.0.0-cp310-cp310-macosx_10_9_universal2.whl (8.4 MB)\n",
      "\u001b[2K   \u001b[90m━━━━━━━━━━━━━━━━━━━━━━━━━━━━━━━━━━━━━━━━\u001b[0m \u001b[32m8.4/8.4 MB\u001b[0m \u001b[31m30.0 MB/s\u001b[0m eta \u001b[36m0:00:00\u001b[0ma \u001b[36m0:00:01\u001b[0m\n",
      "\u001b[?25hInstalling collected packages: lxml\n",
      "Successfully installed lxml-6.0.0\n"
     ]
    }
   ],
   "source": [
    "!pip install lxml"
   ]
  },
  {
   "cell_type": "code",
   "execution_count": 16,
   "id": "2482bf50-035a-4aca-991d-83ff9667f826",
   "metadata": {},
   "outputs": [],
   "source": [
    "import yfinance as yf\n",
    "import pandas as pd\n",
    "import requests\n",
    "from bs4 import BeautifulSoup\n",
    "from datetime import datetime\n",
    "import os\n",
    "from io import StringIO"
   ]
  },
  {
   "cell_type": "code",
   "execution_count": 17,
   "id": "840ee1a9-eb24-4312-a189-3d692879d91f",
   "metadata": {},
   "outputs": [],
   "source": [
    "os.makedirs(\"data/raw\", exist_ok=True)\n"
   ]
  },
  {
   "cell_type": "code",
   "execution_count": 18,
   "id": "e120ad72-087c-40b9-bdcc-734c7e6604f4",
   "metadata": {},
   "outputs": [
    {
     "name": "stderr",
     "output_type": "stream",
     "text": [
      "/var/folders/ty/4g259yzn0wb0qrmc8zhjml5w0000gn/T/ipykernel_82598/379501247.py:6: FutureWarning: YF.download() has changed argument auto_adjust default to True\n",
      "  data = yf.download(ticker, interval=\"1d\")\n",
      "[*********************100%***********************]  1 of 1 completed"
     ]
    },
    {
     "name": "stdout",
     "output_type": "stream",
     "text": [
      "Missing columns: []\n",
      "NA counts:\n",
      " Price   Ticker       \n",
      "Date                     0\n",
      "Open    ULTRACEMCO.NS    0\n",
      "High    ULTRACEMCO.NS    0\n",
      "Low     ULTRACEMCO.NS    0\n",
      "Close   ULTRACEMCO.NS    0\n",
      "Volume  ULTRACEMCO.NS    0\n",
      "dtype: int64\n",
      "Shape: (21, 6)\n"
     ]
    },
    {
     "name": "stderr",
     "output_type": "stream",
     "text": [
      "\n"
     ]
    }
   ],
   "source": [
    "ticker = 'ULTRACEMCO.NS'\n",
    "start_date = '2024-01-01'\n",
    "end_date = '2024-12-31'\n",
    "\n",
    "try:\n",
    "    data = yf.download(ticker, interval=\"1d\")\n",
    "    data.reset_index(inplace=True)\n",
    "except Exception as e:\n",
    "    print(\"error fetching data:\", e)\n",
    "    data = pd.DataFrame()\n",
    "\n",
    "if not data.empty:\n",
    "    data[\"Date\"] = pd.to_datetime(data[\"Date\"])\n",
    "    numeric_cols = [\"Open\", \"High\", \"Low\", \"Close\", \"Volume\"]\n",
    "    data[numeric_cols] = data[numeric_cols].apply(pd.to_numeric, errors=\"coerce\")\n",
    "\n",
    "required_cols = [\"Date\", \"Open\", \"High\", \"Low\", \"Close\", \"Volume\"]\n",
    "missing_cols = [c for c in required_cols if c not in data.columns]\n",
    "na_counts = data[required_cols].isna().sum()\n",
    "\n",
    "print(\"Missing columns:\", missing_cols)\n",
    "print(\"NA counts:\\n\", na_counts)\n",
    "print(\"Shape:\", data.shape)"
   ]
  },
  {
   "cell_type": "code",
   "execution_count": 20,
   "id": "ef773614-e3c9-46cb-9578-d60b1f8b56a7",
   "metadata": {},
   "outputs": [
    {
     "name": "stdout",
     "output_type": "stream",
     "text": [
      "saved api data to /Users/paramshah/Desktop/bootcamp/homework/homework4/data/raw/api_yfinance_ULTRACEMCO.NS_20250818-1629.csv\n"
     ]
    }
   ],
   "source": [
    "timestamp = datetime.now().strftime(\"%Y%m%d-%H%M\")\n",
    "api_file = f\"/Users/paramshah/Desktop/bootcamp/homework/homework4/data/raw/api_yfinance_ULTRACEMCO.NS_{timestamp}.csv\"\n",
    "data.to_csv(api_file, index=False)\n",
    "print(f\"saved api data to {api_file}\")"
   ]
  },
  {
   "cell_type": "code",
   "execution_count": 6,
   "id": "cb0405e0-ca84-41f9-aa2a-8cc8a7ad61c7",
   "metadata": {},
   "outputs": [
    {
     "data": {
      "application/vnd.microsoft.datawrangler.viewer.v0+json": {
       "columns": [
        {
         "name": "index",
         "rawType": "int64",
         "type": "integer"
        },
        {
         "name": "('Date', '')",
         "rawType": "datetime64[ns]",
         "type": "datetime"
        },
        {
         "name": "('Close', 'ULTRACEMCO.NS')",
         "rawType": "float64",
         "type": "float"
        },
        {
         "name": "('High', 'ULTRACEMCO.NS')",
         "rawType": "float64",
         "type": "float"
        },
        {
         "name": "('Low', 'ULTRACEMCO.NS')",
         "rawType": "float64",
         "type": "float"
        },
        {
         "name": "('Open', 'ULTRACEMCO.NS')",
         "rawType": "float64",
         "type": "float"
        },
        {
         "name": "('Volume', 'ULTRACEMCO.NS')",
         "rawType": "int64",
         "type": "integer"
        }
       ],
       "ref": "0880c939-30c0-409c-b440-eb8d8946eee8",
       "rows": [
        [
         "0",
         "2025-07-18 00:00:00",
         "12419.2783203125",
         "12478.900395782075",
         "12362.637348616403",
         "12441.139747984676",
         "98339"
        ],
        [
         "1",
         "2025-07-21 00:00:00",
         "12497.7802734375",
         "12633.917340898814",
         "12296.058925301393",
         "12480.88735265763",
         "512521"
        ],
        [
         "2",
         "2025-07-22 00:00:00",
         "12373.5673828125",
         "12619.01158001413",
         "12217.556293902962",
         "12569.326519851857",
         "533617"
        ],
        [
         "3",
         "2025-07-23 00:00:00",
         "12294.0712890625",
         "12436.170561155608",
         "12280.159472214224",
         "12381.516994965952",
         "189617"
        ],
        [
         "4",
         "2025-07-24 00:00:00",
         "12226.5",
         "12320.901617360209",
         "12152.966108582574",
         "12294.071684005201",
         "180080"
        ]
       ],
       "shape": {
        "columns": 6,
        "rows": 5
       }
      },
      "text/html": [
       "<div>\n",
       "<style scoped>\n",
       "    .dataframe tbody tr th:only-of-type {\n",
       "        vertical-align: middle;\n",
       "    }\n",
       "\n",
       "    .dataframe tbody tr th {\n",
       "        vertical-align: top;\n",
       "    }\n",
       "\n",
       "    .dataframe thead tr th {\n",
       "        text-align: left;\n",
       "    }\n",
       "</style>\n",
       "<table border=\"1\" class=\"dataframe\">\n",
       "  <thead>\n",
       "    <tr>\n",
       "      <th>Price</th>\n",
       "      <th>Date</th>\n",
       "      <th>Close</th>\n",
       "      <th>High</th>\n",
       "      <th>Low</th>\n",
       "      <th>Open</th>\n",
       "      <th>Volume</th>\n",
       "    </tr>\n",
       "    <tr>\n",
       "      <th>Ticker</th>\n",
       "      <th></th>\n",
       "      <th>ULTRACEMCO.NS</th>\n",
       "      <th>ULTRACEMCO.NS</th>\n",
       "      <th>ULTRACEMCO.NS</th>\n",
       "      <th>ULTRACEMCO.NS</th>\n",
       "      <th>ULTRACEMCO.NS</th>\n",
       "    </tr>\n",
       "  </thead>\n",
       "  <tbody>\n",
       "    <tr>\n",
       "      <th>0</th>\n",
       "      <td>2025-07-18</td>\n",
       "      <td>12419.278320</td>\n",
       "      <td>12478.900396</td>\n",
       "      <td>12362.637349</td>\n",
       "      <td>12441.139748</td>\n",
       "      <td>98339</td>\n",
       "    </tr>\n",
       "    <tr>\n",
       "      <th>1</th>\n",
       "      <td>2025-07-21</td>\n",
       "      <td>12497.780273</td>\n",
       "      <td>12633.917341</td>\n",
       "      <td>12296.058925</td>\n",
       "      <td>12480.887353</td>\n",
       "      <td>512521</td>\n",
       "    </tr>\n",
       "    <tr>\n",
       "      <th>2</th>\n",
       "      <td>2025-07-22</td>\n",
       "      <td>12373.567383</td>\n",
       "      <td>12619.011580</td>\n",
       "      <td>12217.556294</td>\n",
       "      <td>12569.326520</td>\n",
       "      <td>533617</td>\n",
       "    </tr>\n",
       "    <tr>\n",
       "      <th>3</th>\n",
       "      <td>2025-07-23</td>\n",
       "      <td>12294.071289</td>\n",
       "      <td>12436.170561</td>\n",
       "      <td>12280.159472</td>\n",
       "      <td>12381.516995</td>\n",
       "      <td>189617</td>\n",
       "    </tr>\n",
       "    <tr>\n",
       "      <th>4</th>\n",
       "      <td>2025-07-24</td>\n",
       "      <td>12226.500000</td>\n",
       "      <td>12320.901617</td>\n",
       "      <td>12152.966109</td>\n",
       "      <td>12294.071684</td>\n",
       "      <td>180080</td>\n",
       "    </tr>\n",
       "  </tbody>\n",
       "</table>\n",
       "</div>"
      ],
      "text/plain": [
       "Price        Date         Close          High           Low          Open  \\\n",
       "Ticker            ULTRACEMCO.NS ULTRACEMCO.NS ULTRACEMCO.NS ULTRACEMCO.NS   \n",
       "0      2025-07-18  12419.278320  12478.900396  12362.637349  12441.139748   \n",
       "1      2025-07-21  12497.780273  12633.917341  12296.058925  12480.887353   \n",
       "2      2025-07-22  12373.567383  12619.011580  12217.556294  12569.326520   \n",
       "3      2025-07-23  12294.071289  12436.170561  12280.159472  12381.516995   \n",
       "4      2025-07-24  12226.500000  12320.901617  12152.966109  12294.071684   \n",
       "\n",
       "Price         Volume  \n",
       "Ticker ULTRACEMCO.NS  \n",
       "0              98339  \n",
       "1             512521  \n",
       "2             533617  \n",
       "3             189617  \n",
       "4             180080  "
      ]
     },
     "execution_count": 6,
     "metadata": {},
     "output_type": "execute_result"
    }
   ],
   "source": [
    "data.head()"
   ]
  },
  {
   "cell_type": "code",
   "execution_count": 7,
   "id": "36c98b34-3222-41cc-bdfc-15a1e813e0d2",
   "metadata": {},
   "outputs": [],
   "source": [
    "url = \"https://www.pmsaifworld.com/top-best-30-pmss-in-india-ranked-as-per-information-ratio/\"\n",
    "resp = requests.get(url)\n",
    "resp.raise_for_status()\n",
    "\n",
    "soup = BeautifulSoup(resp.text, \"html.parser\")\n",
    "\n",
    "table = soup.find(\"table\")\n",
    "if not table:\n",
    "    raise ValueError(\"No table found on the PMSAIFWorld page.\")\n",
    "\n",
    "data=[]"
   ]
  },
  {
   "cell_type": "code",
   "execution_count": 8,
   "id": "612e7602-f337-419c-87dd-6b4ee46c817f",
   "metadata": {},
   "outputs": [
    {
     "name": "stdout",
     "output_type": "stream",
     "text": [
      "<table class=\"table table-qrc\" id=\"strategyTable\" width=\"100%\"> <thead>\n",
      "<tr>\n",
      "<th>Strategy</th>\n",
      "<th>AUM</th>\n",
      "<th>Relative Aplha (1Y)</th>\n",
      "<th>% of +ve months (Fund Data)</th>\n",
      "<th>Alpha (1Y)</th>\n",
      "<th>Beta (1Y)</th>\n",
      "<th>SD (1Y)</th>\n",
      "<th>Sharpe Ratio (1Y)</th>\n",
      "<th>Alpha (SI)</th>\n",
      "<th>Info Ratio (SI)</th>\n",
      "<th>Consistency Ratio</th>\n",
      "</tr>\n",
      "</thead><tbody><tr><td>Buoyant Capital Opportunities Multi-cap</td><td>5,435.66</td><td class=\"red\">-0.5%</td><td>60.91</td><td>9.87%</td><td>0.93</td><td>14.90%</td><td>0.73</td><td>7.92%</td><td>2.51</td><td>61.82</td></tr><tr><td>Sameeksha Capital Equity Fund</td><td>1114</td><td>3.1%</td><td>58.93</td><td>13.47%</td><td>0.73</td><td>13.20%</td><td>1.10</td><td>8.30%</td><td>2.22</td><td>63.39</td></tr><tr><td>Green Lantern Capital LLP Growth Fund</td><td>1075</td><td>1.83%</td><td>54.35</td><td class=\"red\">-3.50%</td><td>0.56</td><td>13.09%</td><td>0.00</td><td>9.57%</td><td>2.16</td><td>55.43</td></tr><tr><td>Stallion Asset Core Fund</td><td>5568.37</td><td>6.93%</td><td>64.20</td><td>17.30%</td><td>0.99</td><td>20.66%</td><td>0.89</td><td>14.67%</td><td>2.14</td><td>61.73</td></tr><tr><td>SageOne Investment Core Portfolio</td><td>4390</td><td>1.56%</td><td>64.24</td><td class=\"red\">-3.77%</td><td>0.99</td><td>20.90%</td><td class=\"red\">-0.01</td><td>10.19%</td><td>1.98</td><td>53.33</td></tr><tr><td>Carnelian Capital Shift</td><td>4200</td><td>12.6%</td><td>65.52</td><td>7.27%</td><td>1.04</td><td>23.94%</td><td>0.45</td><td>8.31%</td><td>1.68</td><td>55.17</td></tr><tr><td>Equitree Capital Advisors Emerging Opportunities </td><td>792.16</td><td>8.62%</td><td>49.46</td><td>9.44%</td><td>1.00</td><td>25.55%</td><td>0.39</td><td class=\"red\">-3.31%</td><td>1.53</td><td>50.54</td></tr><tr><td>Samvitti Capital  Active Alpha Multicap</td><td>420.83</td><td class=\"red\">-26.92%</td><td>60.00</td><td class=\"red\">-16.55%</td><td>1.33</td><td>30.12%</td><td class=\"red\">-0.51</td><td>13.18%</td><td>1.53</td><td>60.00</td></tr><tr><td>ValueQuest Platinum Scheme</td><td>3454.44</td><td class=\"red\">-10.72%</td><td>56.39</td><td class=\"red\">-0.35%</td><td>1.25</td><td>23.32%</td><td>0.03</td><td>7.59%</td><td>1.47</td><td>54.89</td></tr><tr><td>ICICI Prudential PMS Contra Strategy</td><td>11798.3</td><td class=\"red\">-12.67%</td><td>54.32</td><td class=\"red\">-2.30%</td><td>0.87</td><td>14.51%</td><td class=\"red\">-0.07</td><td>6.98%</td><td>1.07</td><td>55.56</td></tr><tr><td>Wallfort PMS &amp; Advisory Services LLP Wallfort Diversified Fund </td><td>178.76</td><td class=\"red\">-1.47%</td><td>53.95</td><td class=\"red\">-6.80%</td><td>1.27</td><td>32.86%</td><td class=\"red\">-0.25</td><td>4.14%</td><td>0.99</td><td>52.63</td></tr><tr><td>ICICI Prudential PMS Largecap Strategy</td><td>832.2</td><td class=\"red\">-0.52%</td><td>52.99</td><td class=\"red\">-2.30%</td><td>1.05</td><td>15.73%</td><td>0.11</td><td>3.65%</td><td>0.98</td><td>52.99</td></tr><tr><td>AlfAccurate Advisors IOP PMS</td><td>2103.06</td><td class=\"red\">-5.65%</td><td>59.14</td><td>4.72%</td><td>0.96</td><td>15.61%</td><td>0.38</td><td>6.88%</td><td>0.97</td><td>57.53</td></tr><tr><td>ICICI Prudential PMS Value Strategy</td><td>977.7</td><td class=\"red\">-14.32%</td><td>51.85</td><td class=\"red\">-3.95%</td><td>0.96</td><td>15.87%</td><td class=\"red\">-0.17</td><td>5.41%</td><td>0.97</td><td>48.89</td></tr><tr><td>360 ONE Phoenix Portfolio</td><td>1921.08</td><td class=\"red\">-11.74%</td><td>66.04</td><td class=\"red\">-1.37%</td><td>0.98</td><td>16.51%</td><td class=\"red\">-0.01</td><td>4.18%</td><td>0.93</td><td>64.15</td></tr><tr><td>Asit C Mehta Ace Multicap</td><td>156.9</td><td class=\"red\">-18.09%</td><td>52.44</td><td class=\"red\">-7.72%</td><td>1.01</td><td>18.41%</td><td class=\"red\">-0.35</td><td>7.04%</td><td>0.91</td><td>53.66</td></tr><tr><td>Invasset LLP Growth Fund</td><td>466.46</td><td class=\"red\">-12.27%</td><td>53.85</td><td class=\"red\">-1.90%</td><td>1.08</td><td>23.40%</td><td class=\"red\">-0.03</td><td>16.04%</td><td>0.84</td><td>53.85</td></tr><tr><td>Motilal Oswal AMC Value Migration</td><td>3791.359726</td><td>1.45%</td><td>53.56</td><td class=\"red\">-0.33%</td><td>1.29</td><td>23.52%</td><td>0.16</td><td>4.45%</td><td>0.83</td><td>53.56</td></tr><tr><td>Maximal Capital Pathfinder Value Fund</td><td>160.21</td><td class=\"red\">-10.84%</td><td>62.16</td><td class=\"red\">-0.47%</td><td>0.99</td><td>19.78%</td><td>0.04</td><td>15.82%</td><td>0.81</td><td>64.86</td></tr><tr><td>Electrum  Laureate Portfolio  </td><td>544.27</td><td>6.01%</td><td>52.73</td><td>6.83%</td><td>0.99</td><td>26.89%</td><td>0.00</td><td>5.42%</td><td>0.80</td><td>52.73</td></tr><tr><td>ICICI Prudential PMS Growth Leaders Strategy</td><td>1664.2</td><td class=\"red\">-12.32%</td><td>55.97</td><td class=\"red\">-1.95%</td><td>1.00</td><td>16.16%</td><td class=\"red\">-0.04</td><td>2.13%</td><td>0.78</td><td>52.99</td></tr><tr><td>SBI Aeon Alpha PMS</td><td>699</td><td class=\"red\">-15.72%</td><td>56.10</td><td class=\"red\">-5.35%</td><td>1.00</td><td>18.77%</td><td class=\"red\">-0.22</td><td>1.42%</td><td>0.76</td><td>51.22</td></tr><tr><td>Girik Capital Multicap Growth Equity Strategy</td><td>1644.25</td><td class=\"red\">-11.41%</td><td>56.22</td><td class=\"red\">-1.04%</td><td>0.93</td><td>15.98%</td><td>0.01</td><td>9.19%</td><td>0.75</td><td>60.54</td></tr><tr><td>Incred PMS Healthcare Portfolio</td><td>275</td><td>18.45%</td><td>50.98</td><td>28.82%</td><td>0.71</td><td>18.46%</td><td>1.63</td><td>2.18%</td><td>0.74</td><td>50.98</td></tr><tr><td>Renaissance India Next Portfolio </td><td>834</td><td class=\"red\">-6.15%</td><td>52.33</td><td>4.22%</td><td>1.03</td><td>17.72%</td><td>0.31</td><td>2.64%</td><td>0.71</td><td>54.65</td></tr><tr><td>Alchemy Capital Management Select Stock</td><td>4631</td><td class=\"red\">-6.66%</td><td>58.38</td><td>3.71%</td><td>1.09</td><td>20.77%</td><td>0.24</td><td>4.92%</td><td>0.69</td><td>58.38</td></tr><tr><td>ValueQuest Growth Scheme</td><td>1908.47</td><td class=\"red\">-14.97%</td><td>57.39</td><td class=\"red\">-4.60%</td><td>1.12</td><td>19.67%</td><td class=\"red\">-0.17</td><td>6.92%</td><td>0.61</td><td>53.41</td></tr><tr><td>SBI ESG Portfolio</td><td>700</td><td>3.51%</td><td>59.43</td><td>13.88%</td><td>0.78</td><td>16.55%</td><td>0.92</td><td>3.37%</td><td>0.57</td><td>55.66</td></tr><tr><td>Valentis Advisors Multi-Cap</td><td>527</td><td class=\"red\">-7.21%</td><td>58.11</td><td>3.16%</td><td>0.92</td><td>17.36%</td><td>1.98</td><td>7.75%</td><td>0.57</td><td>58.11</td></tr><tr><td>Negen Capital Special Situations Fund</td><td>1202.06</td><td class=\"red\">-9.12%</td><td>56.38</td><td>1.25%</td><td>1.06</td><td>21.71%</td><td>0.12</td><td>4.93%</td><td>0.57</td><td>55.32</td></tr> </tbody></table>\n"
     ]
    }
   ],
   "source": [
    "print(table)"
   ]
  },
  {
   "cell_type": "code",
   "execution_count": 9,
   "id": "1fbff307-6817-4310-8c85-d1257fb81509",
   "metadata": {},
   "outputs": [],
   "source": [
    "headers = [header.text for header in soup.find_all('th')]\n",
    "\n",
    "for row in soup.find_all('tr')[1:]: #skip header row\n",
    "    cols = row.find_all('td')\n",
    "    data.append([col.text.strip() for col in cols])\n",
    "\n",
    "df = pd.DataFrame(data, columns=headers)\n",
    "\n",
    "numeric_columns = ['AUM', 'Relative Aplha (1Y)', '% of +ve months (Fund Data)', 'Alpha (1Y)', 'Beta (1Y)', 'SD (1Y)', 'Sharpe Ratio (1Y)', 'Alpha (SI)', 'Info Ratio (SI)', 'Consistency Ratio']\n",
    "\n",
    "for col in numeric_columns:\n",
    "    df[col] = df[col].str.replace('%', '').str.replace(',', '').replace('', pd.NA)\n",
    "    df[col] = pd.to_numeric(df[col], errors='coerce') "
   ]
  },
  {
   "cell_type": "code",
   "execution_count": 14,
   "id": "034ecd51",
   "metadata": {},
   "outputs": [
    {
     "name": "stdout",
     "output_type": "stream",
     "text": [
      "CSV file has been created successfully at /Users/paramshah/Desktop/bootcamp/homework/homework4/data/raw/scrape_pmsaifworld.com_top30PMS_20250818-1628.csv.\n"
     ]
    }
   ],
   "source": [
    "output_dir = '/Users/paramshah/Desktop/bootcamp/homework/homework4/data/raw'\n",
    "os.makedirs(output_dir, exist_ok=True)\n",
    "timestamp = datetime.now().strftime(\"%Y%m%d-%H%M\")\n",
    "output_file = os.path.join(output_dir, f\"scrape_pmsaifworld.com_top30PMS_{timestamp}.csv\")\n",
    "df.to_csv(output_file, index=False)\n",
    "print(f\"CSV file has been created successfully at {output_file}.\")"
   ]
  },
  {
   "cell_type": "code",
   "execution_count": null,
   "id": "f9b676c2",
   "metadata": {},
   "outputs": [],
   "source": []
  }
 ],
 "metadata": {
  "kernelspec": {
   "display_name": "bootcamp_env",
   "language": "python",
   "name": "bootcamp_env"
  },
  "language_info": {
   "codemirror_mode": {
    "name": "ipython",
    "version": 3
   },
   "file_extension": ".py",
   "mimetype": "text/x-python",
   "name": "python",
   "nbconvert_exporter": "python",
   "pygments_lexer": "ipython3",
   "version": "3.10.18"
  }
 },
 "nbformat": 4,
 "nbformat_minor": 5
}
