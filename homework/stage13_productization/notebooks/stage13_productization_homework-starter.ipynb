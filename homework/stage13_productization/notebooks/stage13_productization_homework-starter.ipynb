{
 "cells": [
  {
   "cell_type": "markdown",
   "metadata": {},
   "source": [
    "# Stage 13 Homework Starter — Productization\n",
    "\n",
    "## Objective\n",
    "Deploy your trained model as a **reusable, handoff-ready API or dashboard** and finalize your project for reproducibility and clarity."
   ]
  },
  {
   "cell_type": "markdown",
   "metadata": {},
   "source": [
    "## Steps\n",
    "1. Create a mock, very basic analysis in a notebook.\n",
    "2. Clean your notebook by removing exploratory cells and documenting your code.\n",
    "3. Move reusable functions into `/src/`.\n",
    "4. Load your trained model from Stage 12 or earlier stages.\n",
    "5. Pickle/save the model and test reload.\n",
    "6. Implement **either**:\n",
    "   - Flask API with `/predict` endpoint and optional parameters\n",
    "   - Streamlit or Dash dashboard for user interaction\n",
    "7. Include:\n",
    "   - Error handling for invalid inputs\n",
    "   - `requirements.txt` for reproducibility\n",
    "   - Documentation in `README.md`\n",
    "8. Test your deployment locally and provide evidence.\n",
    "9. Organize project folders and finalize notebooks for handoff."
   ]
  },
  {
   "cell_type": "markdown",
   "id": "8e003adc",
   "metadata": {},
   "source": [
    "## 1. Create mock, very basic analysis"
   ]
  },
  {
   "cell_type": "code",
   "execution_count": 2,
   "id": "1cf1c1b5",
   "metadata": {},
   "outputs": [
    {
     "name": "stdout",
     "output_type": "stream",
     "text": [
      "ETF shape: (3934, 1)\n",
      "Constituents shape: (3934, 9)\n"
     ]
    },
    {
     "data": {
      "application/vnd.microsoft.datawrangler.viewer.v0+json": {
       "columns": [
        {
         "name": "Date",
         "rawType": "datetime64[ns]",
         "type": "datetime"
        },
        {
         "name": "('SOXX', 'SOXX')",
         "rawType": "float64",
         "type": "float"
        }
       ],
       "ref": "de7069d1-c3d2-4ce1-8b2b-32c138f34a52",
       "rows": [
        [
         "2010-01-04 00:00:00",
         "14.06849193572998"
        ],
        [
         "2010-01-05 00:00:00",
         "14.045907020568848"
        ],
        [
         "2010-01-06 00:00:00",
         "14.003558158874512"
        ],
        [
         "2010-01-07 00:00:00",
         "13.893446922302246"
        ],
        [
         "2010-01-08 00:00:00",
         "14.102368354797363"
        ]
       ],
       "shape": {
        "columns": 1,
        "rows": 5
       }
      },
      "text/html": [
       "<div>\n",
       "<style scoped>\n",
       "    .dataframe tbody tr th:only-of-type {\n",
       "        vertical-align: middle;\n",
       "    }\n",
       "\n",
       "    .dataframe tbody tr th {\n",
       "        vertical-align: top;\n",
       "    }\n",
       "\n",
       "    .dataframe thead tr th {\n",
       "        text-align: left;\n",
       "    }\n",
       "\n",
       "    .dataframe thead tr:last-of-type th {\n",
       "        text-align: right;\n",
       "    }\n",
       "</style>\n",
       "<table border=\"1\" class=\"dataframe\">\n",
       "  <thead>\n",
       "    <tr>\n",
       "      <th>Price</th>\n",
       "      <th>SOXX</th>\n",
       "    </tr>\n",
       "    <tr>\n",
       "      <th>Ticker</th>\n",
       "      <th>SOXX</th>\n",
       "    </tr>\n",
       "    <tr>\n",
       "      <th>Date</th>\n",
       "      <th></th>\n",
       "    </tr>\n",
       "  </thead>\n",
       "  <tbody>\n",
       "    <tr>\n",
       "      <th>2010-01-04</th>\n",
       "      <td>14.068492</td>\n",
       "    </tr>\n",
       "    <tr>\n",
       "      <th>2010-01-05</th>\n",
       "      <td>14.045907</td>\n",
       "    </tr>\n",
       "    <tr>\n",
       "      <th>2010-01-06</th>\n",
       "      <td>14.003558</td>\n",
       "    </tr>\n",
       "    <tr>\n",
       "      <th>2010-01-07</th>\n",
       "      <td>13.893447</td>\n",
       "    </tr>\n",
       "    <tr>\n",
       "      <th>2010-01-08</th>\n",
       "      <td>14.102368</td>\n",
       "    </tr>\n",
       "  </tbody>\n",
       "</table>\n",
       "</div>"
      ],
      "text/plain": [
       "Price            SOXX\n",
       "Ticker           SOXX\n",
       "Date                 \n",
       "2010-01-04  14.068492\n",
       "2010-01-05  14.045907\n",
       "2010-01-06  14.003558\n",
       "2010-01-07  13.893447\n",
       "2010-01-08  14.102368"
      ]
     },
     "metadata": {},
     "output_type": "display_data"
    },
    {
     "data": {
      "application/vnd.microsoft.datawrangler.viewer.v0+json": {
       "columns": [
        {
         "name": "Date",
         "rawType": "datetime64[ns]",
         "type": "datetime"
        },
        {
         "name": "ADI",
         "rawType": "float64",
         "type": "float"
        },
        {
         "name": "AMD",
         "rawType": "float64",
         "type": "float"
        },
        {
         "name": "ASML",
         "rawType": "float64",
         "type": "float"
        },
        {
         "name": "AVGO",
         "rawType": "float64",
         "type": "float"
        },
        {
         "name": "INTC",
         "rawType": "float64",
         "type": "float"
        },
        {
         "name": "MU",
         "rawType": "float64",
         "type": "float"
        },
        {
         "name": "QCOM",
         "rawType": "float64",
         "type": "float"
        },
        {
         "name": "TSM",
         "rawType": "float64",
         "type": "float"
        },
        {
         "name": "TXN",
         "rawType": "float64",
         "type": "float"
        }
       ],
       "ref": "f71c8b8d-13fc-49d4-9b96-a0081285bc9e",
       "rows": [
        [
         "2010-01-04 00:00:00",
         "22.06207275390625",
         "9.699999809265137",
         "32.989585876464844",
         "1.3333852291107178",
         "13.519420623779297",
         "10.597220420837402",
         "31.705944061279297",
         "7.2987060546875",
         "17.288869857788086"
        ],
        [
         "2010-01-05 00:00:00",
         "22.02724838256836",
         "9.710000038146973",
         "33.24658966064453",
         "1.3432834148406982",
         "13.512958526611328",
         "10.909764289855957",
         "32.469207763671875",
         "7.267195224761963",
         "17.189163208007812"
        ],
        [
         "2010-01-06 00:00:00",
         "21.98545265197754",
         "9.569999694824219",
         "33.551151275634766",
         "1.3538882732391357",
         "13.46762466430664",
         "10.958600044250488",
         "32.1517448425293",
         "7.2419819831848145",
         "17.06287384033203"
        ],
        [
         "2010-01-07 00:00:00",
         "21.81129264831543",
         "9.470000267028809",
         "32.61839294433594",
         "1.3454041481018066",
         "13.338133811950684",
         "10.58745288848877",
         "33.08386993408203",
         "7.002472400665283",
         "17.116046905517578"
        ],
        [
         "2010-01-08 00:00:00",
         "21.936681747436523",
         "9.430000305175781",
         "31.837907791137695",
         "1.355302333831787",
         "13.487053871154785",
         "10.841394424438477",
         "33.41484451293945",
         "6.996170520782471",
         "17.508211135864258"
        ]
       ],
       "shape": {
        "columns": 9,
        "rows": 5
       }
      },
      "text/html": [
       "<div>\n",
       "<style scoped>\n",
       "    .dataframe tbody tr th:only-of-type {\n",
       "        vertical-align: middle;\n",
       "    }\n",
       "\n",
       "    .dataframe tbody tr th {\n",
       "        vertical-align: top;\n",
       "    }\n",
       "\n",
       "    .dataframe thead th {\n",
       "        text-align: right;\n",
       "    }\n",
       "</style>\n",
       "<table border=\"1\" class=\"dataframe\">\n",
       "  <thead>\n",
       "    <tr style=\"text-align: right;\">\n",
       "      <th>Ticker</th>\n",
       "      <th>ADI</th>\n",
       "      <th>AMD</th>\n",
       "      <th>ASML</th>\n",
       "      <th>AVGO</th>\n",
       "      <th>INTC</th>\n",
       "      <th>MU</th>\n",
       "      <th>QCOM</th>\n",
       "      <th>TSM</th>\n",
       "      <th>TXN</th>\n",
       "    </tr>\n",
       "    <tr>\n",
       "      <th>Date</th>\n",
       "      <th></th>\n",
       "      <th></th>\n",
       "      <th></th>\n",
       "      <th></th>\n",
       "      <th></th>\n",
       "      <th></th>\n",
       "      <th></th>\n",
       "      <th></th>\n",
       "      <th></th>\n",
       "    </tr>\n",
       "  </thead>\n",
       "  <tbody>\n",
       "    <tr>\n",
       "      <th>2010-01-04</th>\n",
       "      <td>22.062073</td>\n",
       "      <td>9.70</td>\n",
       "      <td>32.989586</td>\n",
       "      <td>1.333385</td>\n",
       "      <td>13.519421</td>\n",
       "      <td>10.597220</td>\n",
       "      <td>31.705944</td>\n",
       "      <td>7.298706</td>\n",
       "      <td>17.288870</td>\n",
       "    </tr>\n",
       "    <tr>\n",
       "      <th>2010-01-05</th>\n",
       "      <td>22.027248</td>\n",
       "      <td>9.71</td>\n",
       "      <td>33.246590</td>\n",
       "      <td>1.343283</td>\n",
       "      <td>13.512959</td>\n",
       "      <td>10.909764</td>\n",
       "      <td>32.469208</td>\n",
       "      <td>7.267195</td>\n",
       "      <td>17.189163</td>\n",
       "    </tr>\n",
       "    <tr>\n",
       "      <th>2010-01-06</th>\n",
       "      <td>21.985453</td>\n",
       "      <td>9.57</td>\n",
       "      <td>33.551151</td>\n",
       "      <td>1.353888</td>\n",
       "      <td>13.467625</td>\n",
       "      <td>10.958600</td>\n",
       "      <td>32.151745</td>\n",
       "      <td>7.241982</td>\n",
       "      <td>17.062874</td>\n",
       "    </tr>\n",
       "    <tr>\n",
       "      <th>2010-01-07</th>\n",
       "      <td>21.811293</td>\n",
       "      <td>9.47</td>\n",
       "      <td>32.618393</td>\n",
       "      <td>1.345404</td>\n",
       "      <td>13.338134</td>\n",
       "      <td>10.587453</td>\n",
       "      <td>33.083870</td>\n",
       "      <td>7.002472</td>\n",
       "      <td>17.116047</td>\n",
       "    </tr>\n",
       "    <tr>\n",
       "      <th>2010-01-08</th>\n",
       "      <td>21.936682</td>\n",
       "      <td>9.43</td>\n",
       "      <td>31.837908</td>\n",
       "      <td>1.355302</td>\n",
       "      <td>13.487054</td>\n",
       "      <td>10.841394</td>\n",
       "      <td>33.414845</td>\n",
       "      <td>6.996171</td>\n",
       "      <td>17.508211</td>\n",
       "    </tr>\n",
       "  </tbody>\n",
       "</table>\n",
       "</div>"
      ],
      "text/plain": [
       "Ticker            ADI   AMD       ASML      AVGO       INTC         MU  \\\n",
       "Date                                                                     \n",
       "2010-01-04  22.062073  9.70  32.989586  1.333385  13.519421  10.597220   \n",
       "2010-01-05  22.027248  9.71  33.246590  1.343283  13.512959  10.909764   \n",
       "2010-01-06  21.985453  9.57  33.551151  1.353888  13.467625  10.958600   \n",
       "2010-01-07  21.811293  9.47  32.618393  1.345404  13.338134  10.587453   \n",
       "2010-01-08  21.936682  9.43  31.837908  1.355302  13.487054  10.841394   \n",
       "\n",
       "Ticker           QCOM       TSM        TXN  \n",
       "Date                                        \n",
       "2010-01-04  31.705944  7.298706  17.288870  \n",
       "2010-01-05  32.469208  7.267195  17.189163  \n",
       "2010-01-06  32.151745  7.241982  17.062874  \n",
       "2010-01-07  33.083870  7.002472  17.116047  \n",
       "2010-01-08  33.414845  6.996171  17.508211  "
      ]
     },
     "metadata": {},
     "output_type": "display_data"
    }
   ],
   "source": [
    "import os\n",
    "import pandas as pd\n",
    "\n",
    "DATA_DIR = \"./data\"  # change if needed\n",
    "\n",
    "# Load SOXX ETF prices\n",
    "etf = pd.read_parquet(os.path.join(DATA_DIR, \"/Users/paramshah/Desktop/bootcamp/project/data/soxx_prices_raw.parquet\"))\n",
    "\n",
    "# Load semiconductor constituents\n",
    "semi = pd.read_parquet(os.path.join(DATA_DIR, \"/Users/paramshah/Desktop/bootcamp/project/data/semi_prices_raw.parquet\"))\n",
    "\n",
    "# Inspect\n",
    "print(\"ETF shape:\", etf.shape)\n",
    "print(\"Constituents shape:\", semi.shape)\n",
    "display(etf.head(), semi.head())\n"
   ]
  },
  {
   "cell_type": "code",
   "execution_count": 3,
   "id": "88fadda7",
   "metadata": {},
   "outputs": [
    {
     "data": {
      "image/png": "[encoded data removed]",
      "text/plain": [
       "<Figure size 1000x600 with 1 Axes>"
      ]
     },
     "metadata": {},
     "output_type": "display_data"
    },
    {
     "data": {
      "image/png": "[encoded data removed]",
      "text/plain": [
       "<Figure size 640x480 with 2 Axes>"
      ]
     },
     "metadata": {},
     "output_type": "display_data"
    }
   ],
   "source": [
    "# Mock ETF vs constituents comparison\n",
    "import matplotlib.pyplot as plt\n",
    "\n",
    "\n",
    "plt.figure(figsize=(10,6))\n",
    "plt.plot(etf.index, etf.values, label=\"SOXX ETF\", linewidth=2)\n",
    "plt.plot(semi.index, semi.mean(axis=1), label=\"Avg Constituents\", alpha=0.7)\n",
    "plt.legend()\n",
    "plt.title(\"Mock Analysis: SOXX vs Constituents (avg)\")\n",
    "plt.show()\n",
    "\n",
    "# Quick correlation heatmap\n",
    "import seaborn as sns\n",
    "corr = semi.pct_change().corr()\n",
    "sns.heatmap(corr, annot=False, cmap=\"coolwarm\")\n",
    "plt.title(\"Correlation of Constituents\")\n",
    "plt.show()\n"
   ]
  },
  {
   "cell_type": "code",
   "execution_count": 4,
   "id": "94118270",
   "metadata": {},
   "outputs": [
    {
     "name": "stdout",
     "output_type": "stream",
     "text": [
      "Train R^2: 0.9493231910574148\n",
      "Test R^2: 0.9491931654463993\n"
     ]
    }
   ],
   "source": [
    "from sklearn.linear_model import LinearRegression\n",
    "from sklearn.model_selection import train_test_split\n",
    "import numpy as np\n",
    "\n",
    "# Features = daily returns of semi constituents\n",
    "X = semi.pct_change().dropna()\n",
    "y = etf.pct_change().dropna().reindex(X.index)\n",
    "\n",
    "X_train, X_test, y_train, y_test = train_test_split(X, y, test_size=0.2, shuffle=False)\n",
    "\n",
    "model = LinearRegression()\n",
    "model.fit(X_train, y_train)\n",
    "\n",
    "print(\"Train R^2:\", model.score(X_train, y_train))\n",
    "print(\"Test R^2:\", model.score(X_test, y_test))\n"
   ]
  },
  {
   "cell_type": "markdown",
   "metadata": {},
   "source": [
    "## 2. Notebook Cleanup\n",
    "Remove exploratory cells and document your code."
   ]
  },
  {
   "cell_type": "code",
   "execution_count": 5,
   "metadata": {},
   "outputs": [
    {
     "name": "stdout",
     "output_type": "stream",
     "text": [
      "Notebook cleaned and ready for handoff.\n"
     ]
    }
   ],
   "source": [
    "# TODO: Remove exploratory cells\n",
    "# TODO: Document your code clearly\n",
    "# Example placeholder for cleaned analysis\n",
    "print(\"Notebook cleaned and ready for handoff.\")"
   ]
  },
  {
   "cell_type": "markdown",
   "metadata": {},
   "source": [
    "## 3. Move reusable functions to /src/\n",
    "Create src/utils.py and store functions there."
   ]
  },
  {
   "cell_type": "code",
   "execution_count": 6,
   "metadata": {},
   "outputs": [],
   "source": [
    "# TODO: Move actual reusable functions here\n",
    "def calculate_metrics(df):\n",
    "    return df.describe()"
   ]
  },
  {
   "cell_type": "markdown",
   "metadata": {},
   "source": [
    "## 4. Folder Structure Reminder\n",
    "\n",
    "Ensure your project uses a clean folder structure:\n",
    "```\n",
    "project/\n",
    "  data/\n",
    "  notebooks/\n",
    "  src/\n",
    "  reports/\n",
    "  model/\n",
    "  README.md\n",
    "```\n",
    "For API/Dashboard: minimal example:\n",
    "```\n",
    "project/\n",
    "    app.py\n",
    "    model.pkl\n",
    "    requirements.txt\n",
    "    README.md\n",
    "```"
   ]
  },
  {
   "cell_type": "markdown",
   "metadata": {},
   "source": [
    "## 5. Pickle / Save Final Model\n",
    "\n",
    "### TODO: Replace this with your trained model"
   ]
  },
  {
   "cell_type": "code",
   "execution_count": 7,
   "metadata": {},
   "outputs": [
    {
     "name": "stdout",
     "output_type": "stream",
     "text": [
      "✅ Model saved to soxx_model.pkl\n"
     ]
    }
   ],
   "source": [
    "import pickle\n",
    "with open(\"soxx_model.pkl\", \"wb\") as f:\n",
    "    pickle.dump(model, f)\n",
    "\n",
    "print(\"✅ Model saved to soxx_model.pkl\")\n"
   ]
  },
  {
   "cell_type": "markdown",
   "metadata": {},
   "source": [
    "## 6. Flask API Starter\n",
    "\n",
    "### TODO: Implement Flask endpoints for /predict and /plot"
   ]
  },
  {
   "cell_type": "code",
   "execution_count": 8,
   "metadata": {},
   "outputs": [
    {
     "name": "stdout",
     "output_type": "stream",
     "text": [
      " * Serving Flask app '__main__'\n",
      " * Debug mode: off\n"
     ]
    },
    {
     "name": "stderr",
     "output_type": "stream",
     "text": [
      "Address already in use\n",
      "Port 5000 is in use by another program. Either identify and stop that program, or start the server with a different port.\n",
      "On macOS, try disabling the 'AirPlay Receiver' service from System Preferences -> General -> AirDrop & Handoff.\n"
     ]
    }
   ],
   "source": [
    "from flask import Flask, request, jsonify\n",
    "import threading\n",
    "import matplotlib.pyplot as plt\n",
    "import io\n",
    "import base64\n",
    "import joblib\n",
    "\n",
    "app = Flask(__name__)\n",
    "\n",
    "# Load model (replace with your own pickle path)\n",
    "try:\n",
    "    model = joblib.load(\"models/final_model.pkl\")\n",
    "except:\n",
    "    model = None\n",
    "\n",
    "@app.route('/predict', methods=['POST'])\n",
    "def predict():\n",
    "    try:\n",
    "        data = request.get_json()\n",
    "        features = data.get('features', None)\n",
    "        if features is None:\n",
    "            return jsonify({'status': 'error', 'message': 'No features provided'}), 400\n",
    "\n",
    "        # If model exists, use it; else fallback to dummy\n",
    "        if model:\n",
    "            pred = model.predict([features]).tolist()[0]\n",
    "        else:\n",
    "            pred = sum(features)  # placeholder logic\n",
    "\n",
    "        return jsonify({'status': 'ok', 'prediction': pred, 'inputs': features})\n",
    "    except Exception as e:\n",
    "        return jsonify({'status': 'error', 'message': str(e)}), 500\n",
    "\n",
    "@app.route('/predict/<float:input1>', methods=['GET'])\n",
    "def predict_one(input1):\n",
    "    try:\n",
    "        pred = input1 * 2 if not model else model.predict([[input1]]).tolist()[0]\n",
    "        return jsonify({'status': 'ok', 'prediction': pred, 'input': input1})\n",
    "    except Exception as e:\n",
    "        return jsonify({'status': 'error', 'message': str(e)}), 500\n",
    "\n",
    "@app.route('/predict/<float:input1>/<float:input2>', methods=['GET'])\n",
    "def predict_two(input1, input2):\n",
    "    try:\n",
    "        pred = input1 + input2 if not model else model.predict([[input1, input2]]).tolist()[0]\n",
    "        return jsonify({'status': 'ok', 'prediction': pred, 'inputs': [input1, input2]})\n",
    "    except Exception as e:\n",
    "        return jsonify({'status': 'error', 'message': str(e)}), 500\n",
    "\n",
    "@app.route('/plot')\n",
    "def plot():\n",
    "    try:\n",
    "        fig, ax = plt.subplots()\n",
    "        ax.plot([0, 1, 2], [0, 1, 4])  # replace with real chart\n",
    "        buf = io.BytesIO()\n",
    "        fig.savefig(buf, format='png')\n",
    "        buf.seek(0)\n",
    "        img_bytes = base64.b64encode(buf.read()).decode('utf-8')\n",
    "        return f'<img src=\"data:image/png;base64,{img_bytes}\"/>'\n",
    "    except Exception as e:\n",
    "        return jsonify({'status': 'error', 'message': str(e)}), 500\n",
    "\n",
    "def run_flask():\n",
    "    app.run(port=5000)\n",
    "\n",
    "# Launch Flask in background\n",
    "threading.Thread(target=run_flask, daemon=True).start()\n"
   ]
  },
  {
   "cell_type": "markdown",
   "metadata": {},
   "source": [
    "## 7. Testing the Flask API from Notebook\n",
    "\n",
    "### TODO: Modify examples with your actual features"
   ]
  },
  {
   "cell_type": "code",
   "execution_count": null,
   "metadata": {},
   "outputs": [
    {
     "name": "stdout",
     "output_type": "stream",
     "text": [
      " * Serving Flask app '__main__'\n",
      " * Debug mode: off\n"
     ]
    },
    {
     "name": "stderr",
     "output_type": "stream",
     "text": [
      "Address already in use\n",
      "Port 5002 is in use by another program. Either identify and stop that program, or start the server with a different port.\n"
     ]
    },
    {
     "name": "stdout",
     "output_type": "stream",
     "text": [
      "Status Code: 500\n"
     ]
    }
   ],
   "source": [
    "import threading\n",
    "import time\n",
    "import requests\n",
    "from flask import Flask, request, jsonify\n",
    "import pickle\n",
    "import pandas as pd\n",
    "\n",
    "app = Flask(__name__)\n",
    "\n",
    "try:\n",
    "    model = pickle.load(open(\"soxx_model.pkl\", \"rb\"))\n",
    "except:\n",
    "    model = None\n",
    "\n",
    "@app.route(\"/predict\", methods=[\"POST\"])\n",
    "def predict():\n",
    "    data = request.json\n",
    "    features = data.get(\"features\", None)\n",
    "    if features is None:\n",
    "        return jsonify({\"status\": \"error\", \"message\": \"No features provided\"}), 400\n",
    "    if model:\n",
    "        pred = model.predict(pd.DataFrame(features)).tolist()\n",
    "    else:\n",
    "        pred = [sum(f) for f in features]  # dummy placeholder\n",
    "    return jsonify({\"status\": \"ok\", \"prediction\": pred})\n",
    "\n",
    "def run_app():\n",
    "    app.run(port=5002, debug=False, use_reloader=False)\n",
    "\n",
    "threading.Thread(target=run_app, daemon=True).start()\n",
    "time.sleep(1)  # wait for Flask to start\n",
    "\n",
    "test_features = [[0.01, 0.02, -0.005]]\n",
    "response = requests.post(\"http://127.0.0.1:5002/predict\", json={\"features\": test_features})\n",
    "print(\"Status Code:\", response.status_code)\n"
   ]
  },
  {
   "cell_type": "markdown",
   "metadata": {},
   "source": [
    "## 8. Optional Streamlit / Dash Dashboard\n",
    "\n",
    "### TODO: Add dashboard in a separate file (`app_streamlit.py` or `app_dash.py`)"
   ]
  },
  {
   "cell_type": "markdown",
   "metadata": {},
   "source": [
    "## 9. Handoff Best Practices\n",
    "\n",
    "- Ensure README.md is complete and clear\n",
    "- Provide `requirements.txt` for reproducibility\n",
    "- Ensure pickled model and scripts are in correct folders\n",
    "- Verify another user can run the project end-to-end on a fresh environment"
   ]
  }
 ],
 "metadata": {
  "kernelspec": {
   "display_name": "bootcamp_env",
   "language": "python",
   "name": "bootcamp_env"
  },
  "language_info": {
   "codemirror_mode": {
    "name": "ipython",
    "version": 3
   },
   "file_extension": ".py",
   "mimetype": "text/x-python",
   "name": "python",
   "nbconvert_exporter": "python",
   "pygments_lexer": "ipython3",
   "version": "3.10.18"
  }
 },
 "nbformat": 4,
 "nbformat_minor": 5
}
