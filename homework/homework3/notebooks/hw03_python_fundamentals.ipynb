{
 "cells": [
  {
   "cell_type": "code",
   "execution_count": 14,
   "id": "1014d9cf-462c-4fdd-a31e-b92f5ec6ea62",
   "metadata": {},
   "outputs": [
    {
     "name": "stderr",
     "output_type": "stream",
     "text": [
      "Matplotlib is building the font cache; this may take a moment.\n"
     ]
    }
   ],
   "source": [
    "import numpy as np\n",
    "import pandas as pd\n",
    "import matplotlib.pyplot as plt"
   ]
  },
  {
   "cell_type": "code",
   "execution_count": 2,
   "id": "4dafc4b8-7434-4e09-a3d6-7cea19da4d7e",
   "metadata": {},
   "outputs": [
    {
     "data": {
      "text/plain": [
       "[34, 52, 67, 91, 107, 40, 78]"
      ]
     },
     "execution_count": 2,
     "metadata": {},
     "output_type": "execute_result"
    }
   ],
   "source": [
    "arr=[34,52,67,91,107,40]\n",
    "arr.append(78)\n",
    "arr"
   ]
  },
  {
   "cell_type": "code",
   "execution_count": 28,
   "id": "792e4b26-2b6d-4a91-8d5f-bda21c8da11d",
   "metadata": {},
   "outputs": [
    {
     "name": "stdout",
     "output_type": "stream",
     "text": [
      "[245, 2784, 3753]\n"
     ]
    }
   ],
   "source": [
    "arr_a = [125, 2234, 293]\n",
    "arr_b = [120, 550, 3460]\n",
    "result = []\n",
    "\n",
    "#loop operation\n",
    "for i in range(len(arr_a)):\n",
    "  result.append(arr_a[i] + arr_b[i]) \n",
    "print(result)"
   ]
  },
  {
   "cell_type": "code",
   "execution_count": 30,
   "id": "6e70a2d0-2a74-4aec-ac1b-3f1c75567173",
   "metadata": {},
   "outputs": [
    {
     "data": {
      "text/plain": [
       "array([ 245, 2784, 3753])"
      ]
     },
     "execution_count": 30,
     "metadata": {},
     "output_type": "execute_result"
    }
   ],
   "source": [
    "arr_a = np.array([125, 2234, 293])\n",
    "arr_b = np.array([120, 550, 3460])\n",
    "result = arr_a+arr_b\n",
    "\n",
    "#vectorized\n",
    "result"
   ]
  },
  {
   "cell_type": "code",
   "execution_count": 3,
   "id": "b3eb6052-6390-4449-883b-41bc17cc55d5",
   "metadata": {},
   "outputs": [
    {
     "name": "stdout",
     "output_type": "stream",
     "text": [
      "[ 8 13 16 22 26 10]\n"
     ]
    }
   ],
   "source": [
    "arr=np.array([34,52,67,91,107,40])\n",
    "arr=arr//4\n",
    "print(arr)"
   ]
  },
  {
   "cell_type": "code",
   "execution_count": 4,
   "id": "684f31ea-4d30-48ad-b648-534da68eb563",
   "metadata": {},
   "outputs": [],
   "source": [
    "df=pd.read_csv('/Users/paramshah/Desktop/bootcamp/homework/homework3/data/starter_data.csv')"
   ]
  },
  {
   "cell_type": "code",
   "execution_count": 5,
   "id": "23ee702d-93a3-4490-b58d-3c26bd00d612",
   "metadata": {},
   "outputs": [
    {
     "name": "stdout",
     "output_type": "stream",
     "text": [
      "<class 'pandas.core.frame.DataFrame'>\n",
      "RangeIndex: 10 entries, 0 to 9\n",
      "Data columns (total 3 columns):\n",
      " #   Column    Non-Null Count  Dtype \n",
      "---  ------    --------------  ----- \n",
      " 0   category  10 non-null     object\n",
      " 1   value     10 non-null     int64 \n",
      " 2   date      10 non-null     object\n",
      "dtypes: int64(1), object(2)\n",
      "memory usage: 368.0+ bytes\n"
     ]
    }
   ],
   "source": [
    "df.info()"
   ]
  },
  {
   "cell_type": "code",
   "execution_count": 6,
   "id": "c34659ab-0dd8-405f-ba5d-f7693567752f",
   "metadata": {},
   "outputs": [
    {
     "data": {
      "text/html": [
       "<div>\n",
       "<style scoped>\n",
       "    .dataframe tbody tr th:only-of-type {\n",
       "        vertical-align: middle;\n",
       "    }\n",
       "\n",
       "    .dataframe tbody tr th {\n",
       "        vertical-align: top;\n",
       "    }\n",
       "\n",
       "    .dataframe thead th {\n",
       "        text-align: right;\n",
       "    }\n",
       "</style>\n",
       "<table border=\"1\" class=\"dataframe\">\n",
       "  <thead>\n",
       "    <tr style=\"text-align: right;\">\n",
       "      <th></th>\n",
       "      <th>category</th>\n",
       "      <th>value</th>\n",
       "      <th>date</th>\n",
       "    </tr>\n",
       "  </thead>\n",
       "  <tbody>\n",
       "    <tr>\n",
       "      <th>0</th>\n",
       "      <td>A</td>\n",
       "      <td>10</td>\n",
       "      <td>2025-08-01</td>\n",
       "    </tr>\n",
       "    <tr>\n",
       "      <th>1</th>\n",
       "      <td>B</td>\n",
       "      <td>15</td>\n",
       "      <td>2025-08-02</td>\n",
       "    </tr>\n",
       "    <tr>\n",
       "      <th>2</th>\n",
       "      <td>A</td>\n",
       "      <td>12</td>\n",
       "      <td>2025-08-03</td>\n",
       "    </tr>\n",
       "    <tr>\n",
       "      <th>3</th>\n",
       "      <td>B</td>\n",
       "      <td>18</td>\n",
       "      <td>2025-08-04</td>\n",
       "    </tr>\n",
       "    <tr>\n",
       "      <th>4</th>\n",
       "      <td>C</td>\n",
       "      <td>25</td>\n",
       "      <td>2025-08-05</td>\n",
       "    </tr>\n",
       "  </tbody>\n",
       "</table>\n",
       "</div>"
      ],
      "text/plain": [
       "  category  value        date\n",
       "0        A     10  2025-08-01\n",
       "1        B     15  2025-08-02\n",
       "2        A     12  2025-08-03\n",
       "3        B     18  2025-08-04\n",
       "4        C     25  2025-08-05"
      ]
     },
     "execution_count": 6,
     "metadata": {},
     "output_type": "execute_result"
    }
   ],
   "source": [
    "df.head()"
   ]
  },
  {
   "cell_type": "code",
   "execution_count": 7,
   "id": "d93a2df3-604a-4073-9b2b-be140d7688c2",
   "metadata": {},
   "outputs": [
    {
     "name": "stdout",
     "output_type": "stream",
     "text": [
      "           value\n",
      "count  10.000000\n",
      "mean   17.700000\n",
      "std     7.318925\n",
      "min    10.000000\n",
      "25%    12.500000\n",
      "50%    14.500000\n",
      "75%    23.250000\n",
      "max    30.000000\n"
     ]
    }
   ],
   "source": [
    "print(df.describe())"
   ]
  },
  {
   "cell_type": "code",
   "execution_count": 8,
   "id": "f9cd0487-9ce4-433b-acaf-666f69fd34b6",
   "metadata": {},
   "outputs": [
    {
     "name": "stdout",
     "output_type": "stream",
     "text": [
      "               mean  sum  count\n",
      "category                       \n",
      "A         11.750000   47      4\n",
      "B         15.666667   47      3\n",
      "C         27.666667   83      3\n"
     ]
    }
   ],
   "source": [
    "category_summary = df.groupby('category')['value'].agg(['mean', 'sum', 'count'])\n",
    "print(category_summary)"
   ]
  },
  {
   "cell_type": "code",
   "execution_count": 10,
   "id": "51fc7f4a-5779-4306-a310-3ea4ce33ee60",
   "metadata": {},
   "outputs": [],
   "source": [
    "category_summary.to_csv('/Users/paramshah/Desktop/bootcamp/homework/homework3/data/processed/summary.csv')"
   ]
  },
  {
   "cell_type": "code",
   "execution_count": 18,
   "id": "ed607346-82d3-4ba9-92ba-041c7c5e6933",
   "metadata": {},
   "outputs": [
    {
     "data": {
      "text/plain": [
       "Text(0, 0.5, 'mean')"
      ]
     },
     "execution_count": 18,
     "metadata": {},
     "output_type": "execute_result"
    },
    {
     "data": {
      "image/png": "[encoded data removed]",
      "text/plain": [
       "<Figure size 800x600 with 1 Axes>"
      ]
     },
     "metadata": {},
     "output_type": "display_data"
    }
   ],
   "source": [
    "plt.figure(figsize=(8, 6))\n",
    "category_summary['mean'].sort_values().plot(kind='bar')\n",
    "plt.title('mean by category')\n",
    "plt.xlabel('category')\n",
    "plt.ylabel('mean')"
   ]
  },
  {
   "cell_type": "code",
   "execution_count": 21,
   "id": "2b7d1ecc-a18d-47f4-9f0c-fe7c3d084b37",
   "metadata": {},
   "outputs": [],
   "source": [
    "def get_summary_stats(df):\n",
    "    desc_stats = df.describe()\n",
    "    grouped_summary = df.groupby('category')['value'].agg(['mean', 'sum', 'count'])\n",
    "    return desc_stats, grouped_summary\n",
    "\n",
    "desc_summary_func, category_summary_func = get_summary_stats(df)"
   ]
  },
  {
   "cell_type": "code",
   "execution_count": 23,
   "id": "6dbb0aea-5eb3-4883-b3ce-6c9d6d7153fd",
   "metadata": {},
   "outputs": [
    {
     "name": "stdout",
     "output_type": "stream",
     "text": [
      "           value\n",
      "count  10.000000\n",
      "mean   17.700000\n",
      "std     7.318925\n",
      "min    10.000000\n",
      "25%    12.500000\n",
      "50%    14.500000\n",
      "75%    23.250000\n",
      "max    30.000000\n"
     ]
    }
   ],
   "source": [
    "print(desc_summary_func)"
   ]
  },
  {
   "cell_type": "code",
   "execution_count": 24,
   "id": "27e87ea5-dc5a-405a-a246-502c142c6b42",
   "metadata": {},
   "outputs": [
    {
     "name": "stdout",
     "output_type": "stream",
     "text": [
      "               mean  sum  count\n",
      "category                       \n",
      "A         11.750000   47      4\n",
      "B         15.666667   47      3\n",
      "C         27.666667   83      3\n"
     ]
    }
   ],
   "source": [
    "print(category_summary_func)"
   ]
  },
  {
   "cell_type": "code",
   "execution_count": null,
   "id": "18de97c7-6cbb-4f55-9936-84cb1f0d1a7d",
   "metadata": {},
   "outputs": [],
   "source": []
  }
 ],
 "metadata": {
  "kernelspec": {
   "display_name": "bootcamp_env",
   "language": "python",
   "name": "bootcamp_env"
  },
  "language_info": {
   "codemirror_mode": {
    "name": "ipython",
    "version": 3
   },
   "file_extension": ".py",
   "mimetype": "text/x-python",
   "name": "python",
   "nbconvert_exporter": "python",
   "pygments_lexer": "ipython3",
   "version": "3.10.18"
  }
 },
 "nbformat": 4,
 "nbformat_minor": 5
}
