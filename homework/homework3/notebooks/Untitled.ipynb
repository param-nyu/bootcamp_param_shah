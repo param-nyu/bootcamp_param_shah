{
 "cells": [
  {
   "cell_type": "code",
   "execution_count": null,
   "id": "1014d9cf-462c-4fdd-a31e-b92f5ec6ea62",
   "metadata": {},
   "outputs": [],
   "source": [
    "import pandas as pd\n",
    "import numpy as np\n",
    "\n",
    "# Create a sample DataFrame\n",
    "data = {\n",
    "    'category': np.random.choice(['A', 'B', 'C'], size=100),\n",
    "    'value': np.random.randn(100) * 100,\n",
    "    'reading': np.random.rand(100) * 50\n",
    "}\n",
    "df = pd.DataFrame(data)\n",
    "\n",
    "# Save to CSV\n",
    "df.to_csv('data/starter_data.csv', index=False)\n",
    "print(\"data/starter_data.csv created successfully.\")"
   ]
  }
 ],
 "metadata": {
  "kernelspec": {
   "display_name": "bootcamp_env",
   "language": "python",
   "name": "bootcamp_env"
  },
  "language_info": {
   "codemirror_mode": {
    "name": "ipython",
    "version": 3
   },
   "file_extension": ".py",
   "mimetype": "text/x-python",
   "name": "python",
   "nbconvert_exporter": "python",
   "pygments_lexer": "ipython3",
   "version": "3.10.18"
  }
 },
 "nbformat": 4,
 "nbformat_minor": 5
}
