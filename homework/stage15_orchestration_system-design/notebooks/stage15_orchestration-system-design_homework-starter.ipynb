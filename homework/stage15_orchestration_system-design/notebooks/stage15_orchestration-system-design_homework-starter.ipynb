{
 "cells": [
  {
   "cell_type": "markdown",
   "metadata": {},
   "source": [
    "# Homework Starter — Stage 15: Orchestration & System Design\n",
    "Complete the sections below. Keep your answers concise and focused on orchestration readiness."
   ]
  },
  {
   "cell_type": "markdown",
   "metadata": {},
   "source": [
    "## 1) Project Task Decomposition\n",
    "List 4–8 tasks. Add more rows as needed."
   ]
  },
  {
   "cell_type": "code",
   "execution_count": 8,
   "metadata": {},
   "outputs": [
    {
     "data": {
      "application/vnd.microsoft.datawrangler.viewer.v0+json": {
       "columns": [
        {
         "name": "index",
         "rawType": "int64",
         "type": "integer"
        },
        {
         "name": "Task",
         "rawType": "object",
         "type": "string"
        },
        {
         "name": "Inputs",
         "rawType": "object",
         "type": "string"
        },
        {
         "name": "Outputs",
         "rawType": "object",
         "type": "string"
        },
        {
         "name": "Idempotent",
         "rawType": "bool",
         "type": "boolean"
        }
       ],
       "ref": "d6647223-c0c8-4009-93b3-dfc5ceaa9e75",
       "rows": [
        [
         "0",
         "Data Ingestion",
         "None (download from Yahoo Finance)",
         "raw_prices.parquet",
         "True"
        ],
        [
         "1",
         "Data Preprocessing",
         "raw_prices.parquet",
         "cleaned_prices.parquet",
         "True"
        ],
        [
         "2",
         "Feature Engineering",
         "cleaned_prices.parquet",
         "features.csv",
         "True"
        ],
        [
         "3",
         "Model Training",
         "features.csv",
         "trained_model.pkl",
         "False"
        ],
        [
         "4",
         "Model Persistence",
         "trained_model.pkl",
         "trained_model.pkl",
         "True"
        ],
        [
         "5",
         "Reporting / API",
         "trained_model.pkl, features.csv",
         "plots/, predictions/",
         "True"
        ]
       ],
       "shape": {
        "columns": 4,
        "rows": 6
       }
      },
      "text/html": [
       "<div>\n",
       "<style scoped>\n",
       "    .dataframe tbody tr th:only-of-type {\n",
       "        vertical-align: middle;\n",
       "    }\n",
       "\n",
       "    .dataframe tbody tr th {\n",
       "        vertical-align: top;\n",
       "    }\n",
       "\n",
       "    .dataframe thead th {\n",
       "        text-align: right;\n",
       "    }\n",
       "</style>\n",
       "<table border=\"1\" class=\"dataframe\">\n",
       "  <thead>\n",
       "    <tr style=\"text-align: right;\">\n",
       "      <th></th>\n",
       "      <th>Task</th>\n",
       "      <th>Inputs</th>\n",
       "      <th>Outputs</th>\n",
       "      <th>Idempotent</th>\n",
       "    </tr>\n",
       "  </thead>\n",
       "  <tbody>\n",
       "    <tr>\n",
       "      <th>0</th>\n",
       "      <td>Data Ingestion</td>\n",
       "      <td>None (download from Yahoo Finance)</td>\n",
       "      <td>raw_prices.parquet</td>\n",
       "      <td>True</td>\n",
       "    </tr>\n",
       "    <tr>\n",
       "      <th>1</th>\n",
       "      <td>Data Preprocessing</td>\n",
       "      <td>raw_prices.parquet</td>\n",
       "      <td>cleaned_prices.parquet</td>\n",
       "      <td>True</td>\n",
       "    </tr>\n",
       "    <tr>\n",
       "      <th>2</th>\n",
       "      <td>Feature Engineering</td>\n",
       "      <td>cleaned_prices.parquet</td>\n",
       "      <td>features.csv</td>\n",
       "      <td>True</td>\n",
       "    </tr>\n",
       "    <tr>\n",
       "      <th>3</th>\n",
       "      <td>Model Training</td>\n",
       "      <td>features.csv</td>\n",
       "      <td>trained_model.pkl</td>\n",
       "      <td>False</td>\n",
       "    </tr>\n",
       "    <tr>\n",
       "      <th>4</th>\n",
       "      <td>Model Persistence</td>\n",
       "      <td>trained_model.pkl</td>\n",
       "      <td>trained_model.pkl</td>\n",
       "      <td>True</td>\n",
       "    </tr>\n",
       "    <tr>\n",
       "      <th>5</th>\n",
       "      <td>Reporting / API</td>\n",
       "      <td>trained_model.pkl, features.csv</td>\n",
       "      <td>plots/, predictions/</td>\n",
       "      <td>True</td>\n",
       "    </tr>\n",
       "  </tbody>\n",
       "</table>\n",
       "</div>"
      ],
      "text/plain": [
       "                  Task                              Inputs  \\\n",
       "0       Data Ingestion  None (download from Yahoo Finance)   \n",
       "1   Data Preprocessing                  raw_prices.parquet   \n",
       "2  Feature Engineering              cleaned_prices.parquet   \n",
       "3       Model Training                        features.csv   \n",
       "4    Model Persistence                   trained_model.pkl   \n",
       "5      Reporting / API     trained_model.pkl, features.csv   \n",
       "\n",
       "                  Outputs  Idempotent  \n",
       "0      raw_prices.parquet        True  \n",
       "1  cleaned_prices.parquet        True  \n",
       "2            features.csv        True  \n",
       "3       trained_model.pkl       False  \n",
       "4       trained_model.pkl        True  \n",
       "5    plots/, predictions/        True  "
      ]
     },
     "execution_count": 8,
     "metadata": {},
     "output_type": "execute_result"
    }
   ],
   "source": [
    "from pathlib import Path\n",
    "import pandas as pd\n",
    "import matplotlib.image as mpimg\n",
    "import matplotlib.pyplot as plt\n",
    "\n",
    "tasks = pd.DataFrame({\n",
    "    'Task': [\n",
    "        'Data Ingestion',\n",
    "        'Data Preprocessing',\n",
    "        'Feature Engineering',\n",
    "        'Model Training',\n",
    "        'Model Persistence',\n",
    "        'Reporting / API'\n",
    "    ],\n",
    "    'Inputs': [\n",
    "        'None (download from Yahoo Finance)',\n",
    "        'raw_prices.parquet',\n",
    "        'cleaned_prices.parquet',\n",
    "        'features.csv',\n",
    "        'trained_model.pkl',\n",
    "        'trained_model.pkl, features.csv'\n",
    "    ],\n",
    "    'Outputs': [\n",
    "        'raw_prices.parquet',\n",
    "        'cleaned_prices.parquet',\n",
    "        'features.csv',\n",
    "        'trained_model.pkl',\n",
    "        'trained_model.pkl',\n",
    "        'plots/, predictions/'\n",
    "    ],\n",
    "    'Idempotent': [\n",
    "        True,   # can re-download safely\n",
    "        True,   # deterministic cleaning\n",
    "        True,   # deterministic feature computation\n",
    "        False,  # retraining may produce slightly different model\n",
    "        True,   # saving pickle overwrites safely\n",
    "        True    # generating plots/predictions is safe\n",
    "    ]\n",
    "})\n",
    "\n",
    "tasks\n"
   ]
  },
  {
   "cell_type": "markdown",
   "metadata": {},
   "source": [
    "## 2) Dependencies (DAG)\n",
    "Describe dependencies and paste a small diagram if you have one."
   ]
  },
  {
   "cell_type": "code",
   "execution_count": null,
   "metadata": {},
   "outputs": [
    {
     "data": {
      "text/plain": [
       "{'ingest': [],\n",
       " 'clean': ['ingest'],\n",
       " 'train_or_score': ['clean'],\n",
       " 'report': ['train_or_score']}"
      ]
     },
     "execution_count": 2,
     "metadata": {},
     "output_type": "execute_result"
    }
   ],
   "source": [
    "dag = {\n",
    "    'ingest': [],\n",
    "    'clean': ['ingest'],\n",
    "    'train_or_score': ['clean'],\n",
    "    'report': ['train_or_score']\n",
    "}\n",
    "dag\n"
   ]
  },
  {
   "cell_type": "code",
   "execution_count": 9,
   "id": "9d804682",
   "metadata": {},
   "outputs": [
    {
     "data": {
      "image/png": "[encoded data removed]",
      "text/plain": [
       "<Figure size 640x480 with 1 Axes>"
      ]
     },
     "metadata": {},
     "output_type": "display_data"
    }
   ],
   "source": [
    "image_path = '/Users/paramshah/Desktop/bootcamp/homework/stage15_orchestration_system-design/data/DAG.png'\n",
    "\n",
    "img = mpimg.imread(image_path)\n",
    "plt.imshow(img)\n",
    "plt.axis('off')  # Turn off axis numbers and ticks\n",
    "plt.show()"
   ]
  },
  {
   "cell_type": "markdown",
   "metadata": {},
   "source": [
    "## 3) Logging & Checkpoints Plan\n",
    "Specify what you will log and where you will checkpoint for each task."
   ]
  },
  {
   "cell_type": "code",
   "execution_count": 6,
   "metadata": {},
   "outputs": [
    {
     "data": {
      "application/vnd.microsoft.datawrangler.viewer.v0+json": {
       "columns": [
        {
         "name": "index",
         "rawType": "int64",
         "type": "integer"
        },
        {
         "name": "Task",
         "rawType": "object",
         "type": "string"
        },
        {
         "name": "Log_Messages",
         "rawType": "object",
         "type": "string"
        },
        {
         "name": "Checkpoint_Artifact",
         "rawType": "object",
         "type": "string"
        }
       ],
       "ref": "930d85c3-36f1-4aee-934f-b98a1537fd6b",
       "rows": [
        [
         "0",
         "Data Ingestion",
         "Start/End, number of rows downloaded, source URL, download errors",
         "raw_prices.parquet"
        ],
        [
         "1",
         "Data Preprocessing",
         "Start/End, rows before/after cleaning, nulls handled, missing dates",
         "cleaned_prices.parquet"
        ],
        [
         "2",
         "Feature Engineering",
         "Start/End, features computed, summary statistics, anomalies",
         "features.csv"
        ],
        [
         "3",
         "Model Training",
         "Start/End, training parameters, performance metrics (R², tracking error)",
         "trained_model.pkl"
        ],
        [
         "4",
         "Model Persistence",
         "Start/End, pickle save confirmation, file size",
         "trained_model.pkl"
        ],
        [
         "5",
         "Reporting / API",
         "Start/End, plots generated, API request logs, prediction summary",
         "plots/, predictions/"
        ]
       ],
       "shape": {
        "columns": 3,
        "rows": 6
       }
      },
      "text/html": [
       "<div>\n",
       "<style scoped>\n",
       "    .dataframe tbody tr th:only-of-type {\n",
       "        vertical-align: middle;\n",
       "    }\n",
       "\n",
       "    .dataframe tbody tr th {\n",
       "        vertical-align: top;\n",
       "    }\n",
       "\n",
       "    .dataframe thead th {\n",
       "        text-align: right;\n",
       "    }\n",
       "</style>\n",
       "<table border=\"1\" class=\"dataframe\">\n",
       "  <thead>\n",
       "    <tr style=\"text-align: right;\">\n",
       "      <th></th>\n",
       "      <th>Task</th>\n",
       "      <th>Log_Messages</th>\n",
       "      <th>Checkpoint_Artifact</th>\n",
       "    </tr>\n",
       "  </thead>\n",
       "  <tbody>\n",
       "    <tr>\n",
       "      <th>0</th>\n",
       "      <td>Data Ingestion</td>\n",
       "      <td>Start/End, number of rows downloaded, source U...</td>\n",
       "      <td>raw_prices.parquet</td>\n",
       "    </tr>\n",
       "    <tr>\n",
       "      <th>1</th>\n",
       "      <td>Data Preprocessing</td>\n",
       "      <td>Start/End, rows before/after cleaning, nulls h...</td>\n",
       "      <td>cleaned_prices.parquet</td>\n",
       "    </tr>\n",
       "    <tr>\n",
       "      <th>2</th>\n",
       "      <td>Feature Engineering</td>\n",
       "      <td>Start/End, features computed, summary statisti...</td>\n",
       "      <td>features.csv</td>\n",
       "    </tr>\n",
       "    <tr>\n",
       "      <th>3</th>\n",
       "      <td>Model Training</td>\n",
       "      <td>Start/End, training parameters, performance me...</td>\n",
       "      <td>trained_model.pkl</td>\n",
       "    </tr>\n",
       "    <tr>\n",
       "      <th>4</th>\n",
       "      <td>Model Persistence</td>\n",
       "      <td>Start/End, pickle save confirmation, file size</td>\n",
       "      <td>trained_model.pkl</td>\n",
       "    </tr>\n",
       "    <tr>\n",
       "      <th>5</th>\n",
       "      <td>Reporting / API</td>\n",
       "      <td>Start/End, plots generated, API request logs, ...</td>\n",
       "      <td>plots/, predictions/</td>\n",
       "    </tr>\n",
       "  </tbody>\n",
       "</table>\n",
       "</div>"
      ],
      "text/plain": [
       "                  Task                                       Log_Messages  \\\n",
       "0       Data Ingestion  Start/End, number of rows downloaded, source U...   \n",
       "1   Data Preprocessing  Start/End, rows before/after cleaning, nulls h...   \n",
       "2  Feature Engineering  Start/End, features computed, summary statisti...   \n",
       "3       Model Training  Start/End, training parameters, performance me...   \n",
       "4    Model Persistence     Start/End, pickle save confirmation, file size   \n",
       "5      Reporting / API  Start/End, plots generated, API request logs, ...   \n",
       "\n",
       "      Checkpoint_Artifact  \n",
       "0      raw_prices.parquet  \n",
       "1  cleaned_prices.parquet  \n",
       "2            features.csv  \n",
       "3       trained_model.pkl  \n",
       "4       trained_model.pkl  \n",
       "5    plots/, predictions/  "
      ]
     },
     "execution_count": 6,
     "metadata": {},
     "output_type": "execute_result"
    }
   ],
   "source": [
    "import pandas as pd\n",
    "\n",
    "# Define logging and checkpoint strategy\n",
    "logging_plan = pd.DataFrame({\n",
    "    'Task': [\n",
    "        'Data Ingestion',\n",
    "        'Data Preprocessing',\n",
    "        'Feature Engineering',\n",
    "        'Model Training',\n",
    "        'Model Persistence',\n",
    "        'Reporting / API'\n",
    "    ],\n",
    "    'Log_Messages': [\n",
    "        'Start/End, number of rows downloaded, source URL, download errors',\n",
    "        'Start/End, rows before/after cleaning, nulls handled, missing dates',\n",
    "        'Start/End, features computed, summary statistics, anomalies',\n",
    "        'Start/End, training parameters, performance metrics (R², tracking error)',\n",
    "        'Start/End, pickle save confirmation, file size',\n",
    "        'Start/End, plots generated, API request logs, prediction summary'\n",
    "    ],\n",
    "    'Checkpoint_Artifact': [\n",
    "        'raw_prices.parquet',\n",
    "        'cleaned_prices.parquet',\n",
    "        'features.csv',\n",
    "        'trained_model.pkl',\n",
    "        'trained_model.pkl',\n",
    "        'plots/, predictions/'\n",
    "    ]\n",
    "})\n",
    "\n",
    "logging_plan\n"
   ]
  },
  {
   "cell_type": "markdown",
   "metadata": {},
   "source": [
    "## 4) Right-Sizing Automation\n",
    "Which parts will you automate now? Which stay manual? Why?"
   ]
  },
  {
   "cell_type": "markdown",
   "metadata": {},
   "source": [
    "**Automate now:**  \n",
    "- Data ingestion, preprocessing, feature engineering, model training, and model persistence.  \n",
    "- Rationale: These steps are repetitive, deterministic, and safe to rerun; automation reduces manual errors and ensures reproducibility.\n",
    "\n",
    "**Keep manual:**  \n",
    "- EDA interpretation, report generation, and API testing.  \n",
    "- Rationale: These require human judgment and context; automating them now offers little benefit and could lead to misinterpretation."
   ]
  },
  {
   "cell_type": "markdown",
   "metadata": {},
   "source": [
    "## 5) (Stretch) Refactor One Task into a Function + CLI\n",
    "Use the templates below."
   ]
  },
  {
   "cell_type": "code",
   "execution_count": null,
   "metadata": {},
   "outputs": [],
   "source": [
    "import argparse, json, logging, sys\n",
    "from datetime import datetime\n",
    "\n",
    "def my_task(input_path: str, output_path: str) -> None:\n",
    "    '''Example task template: read → transform → write JSON.'''\n",
    "    logging.info('[my_task] start')\n",
    "    # TODO: implement your logic\n",
    "    result = {'run_at': datetime.utcnow().isoformat(), 'note': 'replace with real output'}\n",
    "    Path(output_path).parent.mkdir(parents=True, exist_ok=True)\n",
    "    Path(output_path).write_text(json.dumps(result, indent=2))\n",
    "    logging.info('[my_task] wrote %s', output_path)\n",
    "\n",
    "def main(argv=None):\n",
    "    parser = argparse.ArgumentParser(description='Homework task wrapper')\n",
    "    parser.add_argument('--input', required=True)\n",
    "    parser.add_argument('--output', required=True)\n",
    "    args = parser.parse_args(argv)\n",
    "    logging.basicConfig(level=logging.INFO, handlers=[logging.StreamHandler(sys.stdout)])\n",
    "    my_task(args.input, args.output)\n",
    "\n",
    "if **name** == '**main**'':\n",
    "    # Example simulated CLI in notebook:\n",
    "    main(['--input', 'data/in.ext', '--output', 'data/out.json'])"
   ]
  },
  {
   "cell_type": "code",
   "execution_count": null,
   "id": "5ea3030f",
   "metadata": {},
   "outputs": [],
   "source": []
  }
 ],
 "metadata": {
  "kernelspec": {
   "display_name": "bootcamp_env",
   "language": "python",
   "name": "bootcamp_env"
  },
  "language_info": {
   "codemirror_mode": {
    "name": "ipython",
    "version": 3
   },
   "file_extension": ".py",
   "mimetype": "text/x-python",
   "name": "python",
   "nbconvert_exporter": "python",
   "pygments_lexer": "ipython3",
   "version": "3.10.18"
  }
 },
 "nbformat": 4,
 "nbformat_minor": 5
}
