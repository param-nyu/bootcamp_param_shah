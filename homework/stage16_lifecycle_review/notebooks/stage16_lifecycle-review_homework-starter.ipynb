{
 "cells": [
  {
   "cell_type": "markdown",
   "metadata": {},
   "source": [
    "# Stage 16 Homework Starter\n",
    "\n",
    "This notebook is a starting point for polishing your final repo and lifecycle mapping."
   ]
  },
  {
   "cell_type": "markdown",
   "metadata": {},
   "source": [
    "## Checklist Template\n",
    " - Add checklist elements, as in the examples below, to make sure you cover everything you would like to accomplish\n",
    "- Update this checklist as you finalize your repo."
   ]
  },
  {
   "cell_type": "code",
   "execution_count": null,
   "metadata": {},
   "outputs": [
    {
     "data": {
      "text/plain": [
       "{'repo_clean': False,\n",
       " 'repo_complete': False,\n",
       " 'readme_complete': False,\n",
       " 'lifecycle_map': False,\n",
       " 'summary_doc': False,\n",
       " 'framework_guide_table': False}"
      ]
     },
     "execution_count": 2,
     "metadata": {},
     "output_type": "execute_result"
    }
   ],
   "source": [
    "checklist = {\n",
    "    \"repo_clean\": True,\n",
    "    \"repo_complete\": True,\n",
    "    \"readme_complete\": False,\n",
    "    \"lifecycle_map\": True,\n",
    "    \"summary_doc\": False,\n",
    "    \"framework_guide_table\": False\n",
    "}\n",
    "checklist"
   ]
  },
  {
   "cell_type": "markdown",
   "metadata": {},
   "source": [
    "## Reflection Prompts\n",
    "- What stage of the lifecycle was hardest for you, and why?\n",
    "- Which part of your repo is most reusable in a future project?\n",
    "- If a teammate had to pick up your repo tomorrow, what would help them most?"
   ]
  }
 ],
 "metadata": {
  "kernelspec": {
   "display_name": "bootcamp_env",
   "language": "python",
   "name": "bootcamp_env"
  },
  "language_info": {
   "codemirror_mode": {
    "name": "ipython",
    "version": 3
   },
   "file_extension": ".py",
   "mimetype": "text/x-python",
   "name": "python",
   "nbconvert_exporter": "python",
   "pygments_lexer": "ipython3",
   "version": "3.10.18"
  }
 },
 "nbformat": 4,
 "nbformat_minor": 2
}
