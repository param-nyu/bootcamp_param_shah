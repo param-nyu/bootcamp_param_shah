{
 "cells": [
  {
   "cell_type": "markdown",
   "metadata": {},
   "source": [
    "# Homework Starter — Stage 10b: Time Series & Classification\n",
    "Fill in the TODOs. Use your own dataset or adapt the synthetic generator below."
   ]
  },
  {
   "cell_type": "code",
   "execution_count": 1,
   "metadata": {},
   "outputs": [],
   "source": [
    "# Imports\n",
    "import numpy as np, pandas as pd\n",
    "import matplotlib.pyplot as plt\n",
    "import seaborn as sns\n",
    "from sklearn.pipeline import Pipeline, make_pipeline\n",
    "from sklearn.preprocessing import StandardScaler\n",
    "from sklearn.linear_model import LinearRegression, LogisticRegression\n",
    "from sklearn.tree import DecisionTreeClassifier\n",
    "from sklearn.metrics import mean_absolute_error, mean_squared_error, classification_report, confusion_matrix\n",
    "from sklearn.model_selection import train_test_split, TimeSeriesSplit\n",
    "np.random.seed(7); sns.set(); plt.rcParams['figure.figsize']=(9,4)"
   ]
  },
  {
   "cell_type": "markdown",
   "metadata": {},
   "source": [
    "## Option A: Use Your Own Data (Recommended)\n",
    "Load your data here (ensure a DateTime index for time series)."
   ]
  },
  {
   "cell_type": "code",
   "execution_count": 2,
   "metadata": {},
   "outputs": [
    {
     "data": {
      "application/vnd.microsoft.datawrangler.viewer.v0+json": {
       "columns": [
        {
         "name": "Date",
         "rawType": "datetime64[ns]",
         "type": "datetime"
        },
        {
         "name": "SOXX",
         "rawType": "float64",
         "type": "float"
        },
        {
         "name": "ADI",
         "rawType": "float64",
         "type": "float"
        },
        {
         "name": "AMD",
         "rawType": "float64",
         "type": "float"
        },
        {
         "name": "ASML",
         "rawType": "float64",
         "type": "float"
        },
        {
         "name": "AVGO",
         "rawType": "float64",
         "type": "float"
        },
        {
         "name": "INTC",
         "rawType": "float64",
         "type": "float"
        },
        {
         "name": "MU",
         "rawType": "float64",
         "type": "float"
        },
        {
         "name": "QCOM",
         "rawType": "float64",
         "type": "float"
        },
        {
         "name": "TSM",
         "rawType": "float64",
         "type": "float"
        },
        {
         "name": "TXN",
         "rawType": "float64",
         "type": "float"
        }
       ],
       "ref": "6444f3a0-5200-49dd-9418-e948fa054543",
       "rows": [
        [
         "2010-01-05 00:00:00",
         "-0.0016053543808610682",
         "-0.001578472327887881",
         "0.001030951451389095",
         "0.007790451966935397",
         "0.007423350367081749",
         "-0.0004779862501358423",
         "0.029493004448977622",
         "0.024073205355986005",
         "-0.004317317301098855",
         "-0.005767100487216514"
        ],
        [
         "2010-01-06 00:00:00",
         "-0.0030150321821381665",
         "-0.001897455817672422",
         "-0.014418160944669856",
         "0.009160687399789369",
         "0.00789472890178966",
         "-0.003354843590721468",
         "0.004476334510722602",
         "-0.00977735346834585",
         "-0.00346945978432478",
         "-0.007347034067193392"
        ],
        [
         "2010-01-07 00:00:00",
         "-0.007863089889228236",
         "-0.007921601907361464",
         "-0.010449261335869542",
         "-0.027801082700139923",
         "-0.0062664883838834395",
         "-0.0096149733589731",
         "-0.03386811766676745",
         "0.028991430981989863",
         "-0.0330723803339541",
         "0.0031163018424165134"
        ],
        [
         "2010-01-08 00:00:00",
         "0.015037408187002832",
         "0.005748815585708833",
         "-0.004223860689032244",
         "-0.023927762306688694",
         "0.007357035240262544",
         "0.011164984645053666",
         "0.023985139638808217",
         "0.01000410712280253",
         "-0.0008999506920175371",
         "0.022912079670701413"
        ],
        [
         "2010-01-11 00:00:00",
         "-0.0030028257155328975",
         "-0.00571595561100513",
         "-0.030752911184303677",
         "-0.021225680231039212",
         "0.006259686342806381",
         "0.005760630894724228",
         "-0.018017991865958094",
         "-0.0036386775913376246",
         "-0.005405454036260693",
         "-0.012907892665544263"
        ]
       ],
       "shape": {
        "columns": 10,
        "rows": 5
       }
      },
      "text/html": [
       "<div>\n",
       "<style scoped>\n",
       "    .dataframe tbody tr th:only-of-type {\n",
       "        vertical-align: middle;\n",
       "    }\n",
       "\n",
       "    .dataframe tbody tr th {\n",
       "        vertical-align: top;\n",
       "    }\n",
       "\n",
       "    .dataframe thead th {\n",
       "        text-align: right;\n",
       "    }\n",
       "</style>\n",
       "<table border=\"1\" class=\"dataframe\">\n",
       "  <thead>\n",
       "    <tr style=\"text-align: right;\">\n",
       "      <th></th>\n",
       "      <th>SOXX</th>\n",
       "      <th>ADI</th>\n",
       "      <th>AMD</th>\n",
       "      <th>ASML</th>\n",
       "      <th>AVGO</th>\n",
       "      <th>INTC</th>\n",
       "      <th>MU</th>\n",
       "      <th>QCOM</th>\n",
       "      <th>TSM</th>\n",
       "      <th>TXN</th>\n",
       "    </tr>\n",
       "    <tr>\n",
       "      <th>Date</th>\n",
       "      <th></th>\n",
       "      <th></th>\n",
       "      <th></th>\n",
       "      <th></th>\n",
       "      <th></th>\n",
       "      <th></th>\n",
       "      <th></th>\n",
       "      <th></th>\n",
       "      <th></th>\n",
       "      <th></th>\n",
       "    </tr>\n",
       "  </thead>\n",
       "  <tbody>\n",
       "    <tr>\n",
       "      <th>2010-01-05</th>\n",
       "      <td>-0.001605</td>\n",
       "      <td>-0.001578</td>\n",
       "      <td>0.001031</td>\n",
       "      <td>0.007790</td>\n",
       "      <td>0.007423</td>\n",
       "      <td>-0.000478</td>\n",
       "      <td>0.029493</td>\n",
       "      <td>0.024073</td>\n",
       "      <td>-0.004317</td>\n",
       "      <td>-0.005767</td>\n",
       "    </tr>\n",
       "    <tr>\n",
       "      <th>2010-01-06</th>\n",
       "      <td>-0.003015</td>\n",
       "      <td>-0.001897</td>\n",
       "      <td>-0.014418</td>\n",
       "      <td>0.009161</td>\n",
       "      <td>0.007895</td>\n",
       "      <td>-0.003355</td>\n",
       "      <td>0.004476</td>\n",
       "      <td>-0.009777</td>\n",
       "      <td>-0.003469</td>\n",
       "      <td>-0.007347</td>\n",
       "    </tr>\n",
       "    <tr>\n",
       "      <th>2010-01-07</th>\n",
       "      <td>-0.007863</td>\n",
       "      <td>-0.007922</td>\n",
       "      <td>-0.010449</td>\n",
       "      <td>-0.027801</td>\n",
       "      <td>-0.006266</td>\n",
       "      <td>-0.009615</td>\n",
       "      <td>-0.033868</td>\n",
       "      <td>0.028991</td>\n",
       "      <td>-0.033072</td>\n",
       "      <td>0.003116</td>\n",
       "    </tr>\n",
       "    <tr>\n",
       "      <th>2010-01-08</th>\n",
       "      <td>0.015037</td>\n",
       "      <td>0.005749</td>\n",
       "      <td>-0.004224</td>\n",
       "      <td>-0.023928</td>\n",
       "      <td>0.007357</td>\n",
       "      <td>0.011165</td>\n",
       "      <td>0.023985</td>\n",
       "      <td>0.010004</td>\n",
       "      <td>-0.000900</td>\n",
       "      <td>0.022912</td>\n",
       "    </tr>\n",
       "    <tr>\n",
       "      <th>2010-01-11</th>\n",
       "      <td>-0.003003</td>\n",
       "      <td>-0.005716</td>\n",
       "      <td>-0.030753</td>\n",
       "      <td>-0.021226</td>\n",
       "      <td>0.006260</td>\n",
       "      <td>0.005761</td>\n",
       "      <td>-0.018018</td>\n",
       "      <td>-0.003639</td>\n",
       "      <td>-0.005405</td>\n",
       "      <td>-0.012908</td>\n",
       "    </tr>\n",
       "  </tbody>\n",
       "</table>\n",
       "</div>"
      ],
      "text/plain": [
       "                SOXX       ADI       AMD      ASML      AVGO      INTC  \\\n",
       "Date                                                                     \n",
       "2010-01-05 -0.001605 -0.001578  0.001031  0.007790  0.007423 -0.000478   \n",
       "2010-01-06 -0.003015 -0.001897 -0.014418  0.009161  0.007895 -0.003355   \n",
       "2010-01-07 -0.007863 -0.007922 -0.010449 -0.027801 -0.006266 -0.009615   \n",
       "2010-01-08  0.015037  0.005749 -0.004224 -0.023928  0.007357  0.011165   \n",
       "2010-01-11 -0.003003 -0.005716 -0.030753 -0.021226  0.006260  0.005761   \n",
       "\n",
       "                  MU      QCOM       TSM       TXN  \n",
       "Date                                                \n",
       "2010-01-05  0.029493  0.024073 -0.004317 -0.005767  \n",
       "2010-01-06  0.004476 -0.009777 -0.003469 -0.007347  \n",
       "2010-01-07 -0.033868  0.028991 -0.033072  0.003116  \n",
       "2010-01-08  0.023985  0.010004 -0.000900  0.022912  \n",
       "2010-01-11 -0.018018 -0.003639 -0.005405 -0.012908  "
      ]
     },
     "execution_count": 2,
     "metadata": {},
     "output_type": "execute_result"
    }
   ],
   "source": [
    "# load your cleaned returns data\n",
    "df = pd.read_parquet(\"/Users/paramshah/Desktop/bootcamp/project/data/returns_proc.parquet\")  # adjust path if needed\n",
    "df.head()"
   ]
  },
  {
   "cell_type": "markdown",
   "metadata": {},
   "source": [
    "## Option B: Synthetic Generator (Use if you don't have data ready)"
   ]
  },
  {
   "cell_type": "code",
   "execution_count": null,
   "metadata": {},
   "outputs": [],
   "source": [
    "# # Synthetic series with regimes & jumps\n",
    "# n=500\n",
    "# dates=pd.bdate_range('2021-01-01', periods=n)\n",
    "# mu = np.where(np.arange(n)<n//2, 0.0003, -0.0001)\n",
    "# sigma = np.where(np.arange(n)<n//2, 0.01, 0.015)\n",
    "# eps = np.random.normal(mu, sigma)\n",
    "# jumps = np.zeros(n); jump_days = np.random.choice(np.arange(20,n-20), size=5, replace=False)\n",
    "# jumps[jump_days] = np.random.normal(0,0.05,size=len(jump_days))\n",
    "# rets = eps + jumps\n",
    "# price = 100*np.exp(np.cumsum(rets))\n",
    "# df = pd.DataFrame({'price':price}, index=dates)\n",
    "# df['ret'] = df['price'].pct_change().fillna(0.0)\n",
    "# df['log_ret'] = np.log1p(df['ret'])\n",
    "# df.head()"
   ]
  },
  {
   "cell_type": "markdown",
   "metadata": {},
   "source": [
    "## Feature Engineering"
   ]
  },
  {
   "cell_type": "code",
   "execution_count": 8,
   "metadata": {},
   "outputs": [],
   "source": [
    "X = df[['AVGO','TSM','AMD','INTC','QCOM','TXN','ASML','MU','ADI']]\n",
    "y = df['SOXX']\n",
    "\n",
    "# Create target: 1 if SOXX > 0, else 0\n",
    "y_up = (y > 0).astype(int)\n",
    "\n",
    "# Initialize a new DataFrame for engineered features\n",
    "X_feat = pd.DataFrame(index=df.index)\n",
    "\n",
    "# Feature engineering for each stock\n",
    "for col in X.columns:\n",
    "    # Lag feature: previous 2 days\n",
    "    X_feat[f'{col}_lag2'] = X[col].shift(2)\n",
    "    \n",
    "    # Rolling volatility: window 10\n",
    "    X_feat[f'{col}_rollvol10'] = X[col].rolling(window=10).std()\n",
    "    \n",
    "    # Rolling mean: window 20\n",
    "    X_feat[f'{col}_rollmean20'] = X[col].rolling(window=20).mean()\n",
    "\n",
    "X_feat = X_feat.dropna()\n",
    "y_up = y_up.loc[X_feat.index]\n"
   ]
  },
  {
   "cell_type": "markdown",
   "metadata": {},
   "source": [
    "## Split"
   ]
  },
  {
   "cell_type": "code",
   "execution_count": 9,
   "metadata": {},
   "outputs": [],
   "source": [
    "\n",
    "cut = int(len(X_feat) * 0.8)\n",
    "train, test = X_feat.iloc[:cut], X_feat.iloc[cut:]\n",
    "\n",
    "features = X_feat.columns.tolist()\n",
    "\n",
    "X_tr, X_te = train[features], test[features]\n",
    "\n",
    "y_tr_clf, y_te_clf = y_up.iloc[:cut], y_up.iloc[cut:]\n",
    "\n",
    "y_next_ret = df['SOXX'].shift(-1).loc[X_feat.index]  # next-day return\n",
    "y_tr_reg, y_te_reg = y_next_ret.iloc[:cut], y_next_ret.iloc[cut:]\n"
   ]
  },
  {
   "cell_type": "markdown",
   "metadata": {},
   "source": [
    "## Pipeline + Model (Choose one track below)"
   ]
  },
  {
   "cell_type": "code",
   "execution_count": 11,
   "metadata": {},
   "outputs": [
    {
     "name": "stdout",
     "output_type": "stream",
     "text": [
      "Classification Report:\n",
      "               precision    recall  f1-score   support\n",
      "\n",
      "           0       0.54      0.37      0.44       373\n",
      "           1       0.56      0.71      0.63       410\n",
      "\n",
      "    accuracy                           0.55       783\n",
      "   macro avg       0.55      0.54      0.53       783\n",
      "weighted avg       0.55      0.55      0.54       783\n",
      "\n"
     ]
    },
    {
     "data": {
      "image/png": "[encoded data removed]",
      "text/plain": [
       "<Figure size 900x400 with 2 Axes>"
      ]
     },
     "metadata": {},
     "output_type": "display_data"
    }
   ],
   "source": [
    "\n",
    "clf = Pipeline([\n",
    "    ('scaler', StandardScaler()),\n",
    "    ('logit', LogisticRegression(max_iter=1000))\n",
    "])\n",
    "clf.fit(X_tr, y_tr_clf)\n",
    "\n",
    "y_pred = clf.predict(X_te)\n",
    "\n",
    "print(\"Classification Report:\\n\", classification_report(y_te_clf, y_pred))\n",
    "\n",
    "cm = confusion_matrix(y_te_clf, y_pred)\n",
    "sns.heatmap(cm, annot=True, fmt='d', cmap='Blues')\n",
    "plt.title('Confusion Matrix')\n",
    "plt.xlabel('Predicted')\n",
    "plt.ylabel('Actual')\n",
    "plt.show()\n"
   ]
  },
  {
   "cell_type": "markdown",
   "metadata": {},
   "source": [
    "## Interpretation (Markdown)\n",
    "- What worked? The model achieved balanced precision and a high recall of 0.71 for predicting upward movements.\n",
    "- Where might assumptions fail? Class imbalance could have biased the model towards predicting the majority class, and market conditions may change the relationships learned.\n",
    "- How would you extend features or model? Introduce additional technical indicators, create more lagged features."
   ]
  },
  {
   "cell_type": "markdown",
   "metadata": {},
   "source": [
    "### Save Notebook\n",
    "Remember to save as `notebooks/modeling_<team>.ipynb`."
   ]
  }
 ],
 "metadata": {
  "kernelspec": {
   "display_name": "bootcamp_env",
   "language": "python",
   "name": "bootcamp_env"
  },
  "language_info": {
   "codemirror_mode": {
    "name": "ipython",
    "version": 3
   },
   "file_extension": ".py",
   "mimetype": "text/x-python",
   "name": "python",
   "nbconvert_exporter": "python",
   "pygments_lexer": "ipython3",
   "version": "3.10.18"
  }
 },
 "nbformat": 4,
 "nbformat_minor": 5
}
