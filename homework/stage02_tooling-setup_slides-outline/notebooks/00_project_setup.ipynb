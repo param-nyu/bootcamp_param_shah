{
 "cells": [
  {
   "cell_type": "markdown",
   "id": "67b38ded",
   "metadata": {},
   "source": [
    "### Environment & Config Check"
   ]
  },
  {
   "cell_type": "code",
   "execution_count": 4,
   "id": "c1ccc059",
   "metadata": {},
   "outputs": [
    {
     "name": "stdout",
     "output_type": "stream",
     "text": [
      "Secrets loaded.\n"
     ]
    }
   ],
   "source": [
    "import sys\n",
    "import numpy as np\n",
    "\n",
    "sys.path.append('../src')\n",
    "\n",
    "from config import load_secrets, get_key\n",
    "\n",
    "load_secrets()"
   ]
  },
  {
   "cell_type": "code",
   "execution_count": 7,
   "id": "ba4f3da8",
   "metadata": {},
   "outputs": [
    {
     "name": "stdout",
     "output_type": "stream",
     "text": [
      "API_KEY present: True\n",
      "API Key is: dummykey_lol\n",
      "[55534 27687 64219]\n"
     ]
    }
   ],
   "source": [
    "api_key = get_key()\n",
    "print(f\"API_KEY present: {api_key is not None}\")\n",
    "print(f\"API Key is: {api_key}\")\n",
    "\n",
    "a = np.array([14323, 22342, 395])\n",
    "b = np.array([41211, 5345, 63824])\n",
    "print(f\"{a + b}\")"
   ]
  },
  {
   "cell_type": "code",
   "execution_count": null,
   "id": "fde1bdb4-40a0-4d72-ba7e-9a5cc9a3c42f",
   "metadata": {},
   "outputs": [],
   "source": []
  }
 ],
 "metadata": {
  "kernelspec": {
   "display_name": "Python 3 (ipykernel)",
   "language": "python",
   "name": "python3"
  },
  "language_info": {
   "codemirror_mode": {
    "name": "ipython",
    "version": 3
   },
   "file_extension": ".py",
   "mimetype": "text/x-python",
   "name": "python",
   "nbconvert_exporter": "python",
   "pygments_lexer": "ipython3",
   "version": "3.10.18"
  }
 },
 "nbformat": 4,
 "nbformat_minor": 5
}
