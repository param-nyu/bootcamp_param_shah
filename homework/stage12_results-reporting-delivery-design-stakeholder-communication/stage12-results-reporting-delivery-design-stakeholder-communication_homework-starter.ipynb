{
 "cells": [
  {
   "cell_type": "markdown",
   "metadata": {},
   "source": [
    "# Homework Starter: Final Reporting\n",
    "\n",
    "This notebook helps you generate plots, annotate assumptions, and prepare a stakeholder-ready deliverable."
   ]
  },
  {
   "cell_type": "markdown",
   "metadata": {},
   "source": [
    "## Executive Summary\n",
    "- Baseline scenario shows steady returns with moderate volatility.\n",
    "- Imputation and outlier adjustments create small variations in return and risk.\n",
    "- Key assumptions and sensitivity analysis highlight decision risks and implications."
   ]
  },
  {
   "cell_type": "code",
   "execution_count": 9,
   "id": "e6a597df",
   "metadata": {},
   "outputs": [
    {
     "name": "stdout",
     "output_type": "stream",
     "text": [
      "Collecting dash\n",
      "  Downloading dash-3.2.0-py3-none-any.whl.metadata (10 kB)\n",
      "Collecting jupyter-dash\n",
      "  Downloading jupyter_dash-0.4.2-py3-none-any.whl.metadata (3.6 kB)\n",
      "Collecting plotly\n",
      "  Downloading plotly-6.3.0-py3-none-any.whl.metadata (8.5 kB)\n",
      "Collecting Flask<3.2,>=1.0.4 (from dash)\n",
      "  Downloading flask-3.1.2-py3-none-any.whl.metadata (3.2 kB)\n",
      "Collecting Werkzeug<3.2 (from dash)\n",
      "  Downloading werkzeug-3.1.3-py3-none-any.whl.metadata (3.7 kB)\n",
      "Collecting importlib-metadata (from dash)\n",
      "  Downloading importlib_metadata-8.7.0-py3-none-any.whl.metadata (4.8 kB)\n",
      "Requirement already satisfied: typing-extensions>=4.1.1 in /opt/miniconda3/envs/bootcamp_env/lib/python3.10/site-packages (from dash) (4.14.1)\n",
      "Requirement already satisfied: requests in /opt/miniconda3/envs/bootcamp_env/lib/python3.10/site-packages (from dash) (2.32.4)\n",
      "Collecting retrying (from dash)\n",
      "  Downloading retrying-1.4.2-py3-none-any.whl.metadata (5.5 kB)\n",
      "Requirement already satisfied: nest-asyncio in /opt/miniconda3/envs/bootcamp_env/lib/python3.10/site-packages (from dash) (1.6.0)\n",
      "Requirement already satisfied: setuptools in /opt/miniconda3/envs/bootcamp_env/lib/python3.10/site-packages (from dash) (78.1.1)\n",
      "Collecting blinker>=1.9.0 (from Flask<3.2,>=1.0.4->dash)\n",
      "  Downloading blinker-1.9.0-py3-none-any.whl.metadata (1.6 kB)\n",
      "Collecting click>=8.1.3 (from Flask<3.2,>=1.0.4->dash)\n",
      "  Downloading click-8.2.1-py3-none-any.whl.metadata (2.5 kB)\n",
      "Collecting itsdangerous>=2.2.0 (from Flask<3.2,>=1.0.4->dash)\n",
      "  Downloading itsdangerous-2.2.0-py3-none-any.whl.metadata (1.9 kB)\n",
      "Requirement already satisfied: jinja2>=3.1.2 in /opt/miniconda3/envs/bootcamp_env/lib/python3.10/site-packages (from Flask<3.2,>=1.0.4->dash) (3.1.6)\n",
      "Requirement already satisfied: markupsafe>=2.1.1 in /opt/miniconda3/envs/bootcamp_env/lib/python3.10/site-packages (from Flask<3.2,>=1.0.4->dash) (3.0.2)\n",
      "Requirement already satisfied: ipython in /opt/miniconda3/envs/bootcamp_env/lib/python3.10/site-packages (from jupyter-dash) (8.37.0)\n",
      "Requirement already satisfied: ipykernel in /opt/miniconda3/envs/bootcamp_env/lib/python3.10/site-packages (from jupyter-dash) (6.30.1)\n",
      "Collecting ansi2html (from jupyter-dash)\n",
      "  Downloading ansi2html-1.9.2-py3-none-any.whl.metadata (3.7 kB)\n",
      "Collecting narwhals>=1.15.1 (from plotly)\n",
      "  Downloading narwhals-2.2.0-py3-none-any.whl.metadata (11 kB)\n",
      "Requirement already satisfied: packaging in /opt/miniconda3/envs/bootcamp_env/lib/python3.10/site-packages (from plotly) (25.0)\n",
      "Collecting zipp>=3.20 (from importlib-metadata->dash)\n",
      "  Downloading zipp-3.23.0-py3-none-any.whl.metadata (3.6 kB)\n",
      "Requirement already satisfied: appnope>=0.1.2 in /opt/miniconda3/envs/bootcamp_env/lib/python3.10/site-packages (from ipykernel->jupyter-dash) (0.1.4)\n",
      "Requirement already satisfied: comm>=0.1.1 in /opt/miniconda3/envs/bootcamp_env/lib/python3.10/site-packages (from ipykernel->jupyter-dash) (0.2.3)\n",
      "Requirement already satisfied: debugpy>=1.6.5 in /opt/miniconda3/envs/bootcamp_env/lib/python3.10/site-packages (from ipykernel->jupyter-dash) (1.8.16)\n",
      "Requirement already satisfied: jupyter-client>=8.0.0 in /opt/miniconda3/envs/bootcamp_env/lib/python3.10/site-packages (from ipykernel->jupyter-dash) (8.6.3)\n",
      "Requirement already satisfied: jupyter-core!=5.0.*,>=4.12 in /opt/miniconda3/envs/bootcamp_env/lib/python3.10/site-packages (from ipykernel->jupyter-dash) (5.8.1)\n",
      "Requirement already satisfied: matplotlib-inline>=0.1 in /opt/miniconda3/envs/bootcamp_env/lib/python3.10/site-packages (from ipykernel->jupyter-dash) (0.1.7)\n",
      "Requirement already satisfied: psutil>=5.7 in /opt/miniconda3/envs/bootcamp_env/lib/python3.10/site-packages (from ipykernel->jupyter-dash) (7.0.0)\n",
      "Requirement already satisfied: pyzmq>=25 in /opt/miniconda3/envs/bootcamp_env/lib/python3.10/site-packages (from ipykernel->jupyter-dash) (27.0.1)\n",
      "Requirement already satisfied: tornado>=6.2 in /opt/miniconda3/envs/bootcamp_env/lib/python3.10/site-packages (from ipykernel->jupyter-dash) (6.5.2)\n",
      "Requirement already satisfied: traitlets>=5.4.0 in /opt/miniconda3/envs/bootcamp_env/lib/python3.10/site-packages (from ipykernel->jupyter-dash) (5.14.3)\n",
      "Requirement already satisfied: decorator in /opt/miniconda3/envs/bootcamp_env/lib/python3.10/site-packages (from ipython->jupyter-dash) (5.2.1)\n",
      "Requirement already satisfied: exceptiongroup in /opt/miniconda3/envs/bootcamp_env/lib/python3.10/site-packages (from ipython->jupyter-dash) (1.3.0)\n",
      "Requirement already satisfied: jedi>=0.16 in /opt/miniconda3/envs/bootcamp_env/lib/python3.10/site-packages (from ipython->jupyter-dash) (0.19.2)\n",
      "Requirement already satisfied: pexpect>4.3 in /opt/miniconda3/envs/bootcamp_env/lib/python3.10/site-packages (from ipython->jupyter-dash) (4.9.0)\n",
      "Requirement already satisfied: prompt_toolkit<3.1.0,>=3.0.41 in /opt/miniconda3/envs/bootcamp_env/lib/python3.10/site-packages (from ipython->jupyter-dash) (3.0.51)\n",
      "Requirement already satisfied: pygments>=2.4.0 in /opt/miniconda3/envs/bootcamp_env/lib/python3.10/site-packages (from ipython->jupyter-dash) (2.19.2)\n",
      "Requirement already satisfied: stack_data in /opt/miniconda3/envs/bootcamp_env/lib/python3.10/site-packages (from ipython->jupyter-dash) (0.6.3)\n",
      "Requirement already satisfied: wcwidth in /opt/miniconda3/envs/bootcamp_env/lib/python3.10/site-packages (from prompt_toolkit<3.1.0,>=3.0.41->ipython->jupyter-dash) (0.2.13)\n",
      "Requirement already satisfied: parso<0.9.0,>=0.8.4 in /opt/miniconda3/envs/bootcamp_env/lib/python3.10/site-packages (from jedi>=0.16->ipython->jupyter-dash) (0.8.4)\n",
      "Requirement already satisfied: python-dateutil>=2.8.2 in /opt/miniconda3/envs/bootcamp_env/lib/python3.10/site-packages (from jupyter-client>=8.0.0->ipykernel->jupyter-dash) (2.9.0.post0)\n",
      "Requirement already satisfied: platformdirs>=2.5 in /opt/miniconda3/envs/bootcamp_env/lib/python3.10/site-packages (from jupyter-core!=5.0.*,>=4.12->ipykernel->jupyter-dash) (4.3.8)\n",
      "Requirement already satisfied: ptyprocess>=0.5 in /opt/miniconda3/envs/bootcamp_env/lib/python3.10/site-packages (from pexpect>4.3->ipython->jupyter-dash) (0.7.0)\n",
      "Requirement already satisfied: six>=1.5 in /opt/miniconda3/envs/bootcamp_env/lib/python3.10/site-packages (from python-dateutil>=2.8.2->jupyter-client>=8.0.0->ipykernel->jupyter-dash) (1.17.0)\n",
      "Requirement already satisfied: charset_normalizer<4,>=2 in /opt/miniconda3/envs/bootcamp_env/lib/python3.10/site-packages (from requests->dash) (3.4.3)\n",
      "Requirement already satisfied: idna<4,>=2.5 in /opt/miniconda3/envs/bootcamp_env/lib/python3.10/site-packages (from requests->dash) (3.10)\n",
      "Requirement already satisfied: urllib3<3,>=1.21.1 in /opt/miniconda3/envs/bootcamp_env/lib/python3.10/site-packages (from requests->dash) (2.5.0)\n",
      "Requirement already satisfied: certifi>=2017.4.17 in /opt/miniconda3/envs/bootcamp_env/lib/python3.10/site-packages (from requests->dash) (2025.8.3)\n",
      "Requirement already satisfied: executing>=1.2.0 in /opt/miniconda3/envs/bootcamp_env/lib/python3.10/site-packages (from stack_data->ipython->jupyter-dash) (2.2.0)\n",
      "Requirement already satisfied: asttokens>=2.1.0 in /opt/miniconda3/envs/bootcamp_env/lib/python3.10/site-packages (from stack_data->ipython->jupyter-dash) (3.0.0)\n",
      "Requirement already satisfied: pure-eval in /opt/miniconda3/envs/bootcamp_env/lib/python3.10/site-packages (from stack_data->ipython->jupyter-dash) (0.2.3)\n",
      "Downloading dash-3.2.0-py3-none-any.whl (7.9 MB)\n",
      "\u001b[2K   \u001b[90m━━━━━━━━━━━━━━━━━━━━━━━━━━━━━━━━━━━━━━━━\u001b[0m \u001b[32m7.9/7.9 MB\u001b[0m \u001b[31m19.7 MB/s\u001b[0m eta \u001b[36m0:00:00\u001b[0ma \u001b[36m0:00:01\u001b[0m\n",
      "\u001b[?25hDownloading flask-3.1.2-py3-none-any.whl (103 kB)\n",
      "Downloading werkzeug-3.1.3-py3-none-any.whl (224 kB)\n",
      "Downloading jupyter_dash-0.4.2-py3-none-any.whl (23 kB)\n",
      "Downloading plotly-6.3.0-py3-none-any.whl (9.8 MB)\n",
      "\u001b[2K   \u001b[90m━━━━━━━━━━━━━━━━━━━━━━━━━━━━━━━━━━━━━━━━\u001b[0m \u001b[32m9.8/9.8 MB\u001b[0m \u001b[31m18.9 MB/s\u001b[0m eta \u001b[36m0:00:00\u001b[0ma \u001b[36m0:00:01\u001b[0m\n",
      "\u001b[?25hDownloading blinker-1.9.0-py3-none-any.whl (8.5 kB)\n",
      "Downloading click-8.2.1-py3-none-any.whl (102 kB)\n",
      "Downloading itsdangerous-2.2.0-py3-none-any.whl (16 kB)\n",
      "Downloading narwhals-2.2.0-py3-none-any.whl (401 kB)\n",
      "Downloading ansi2html-1.9.2-py3-none-any.whl (17 kB)\n",
      "Downloading importlib_metadata-8.7.0-py3-none-any.whl (27 kB)\n",
      "Downloading zipp-3.23.0-py3-none-any.whl (10 kB)\n",
      "Downloading retrying-1.4.2-py3-none-any.whl (10 kB)\n",
      "Installing collected packages: zipp, Werkzeug, retrying, narwhals, itsdangerous, click, blinker, ansi2html, plotly, importlib-metadata, Flask, dash, jupyter-dash\n",
      "\u001b[2K   \u001b[90m━━━━━━━━━━━━━━━━━━━━━━━━━━━━━━━━━━━━━━━━\u001b[0m \u001b[32m13/13\u001b[0m [jupyter-dash][0m [dash]]lib-metadata]\n",
      "\u001b[1A\u001b[2KSuccessfully installed Flask-3.1.2 Werkzeug-3.1.3 ansi2html-1.9.2 blinker-1.9.0 click-8.2.1 dash-3.2.0 importlib-metadata-8.7.0 itsdangerous-2.2.0 jupyter-dash-0.4.2 narwhals-2.2.0 plotly-6.3.0 retrying-1.4.2 zipp-3.23.0\n"
     ]
    }
   ],
   "source": [
    "#!pip install dash jupyter-dash plotly"
   ]
  },
  {
   "cell_type": "code",
   "execution_count": 18,
   "metadata": {},
   "outputs": [],
   "source": [
    "import pandas as pd\n",
    "import numpy as np\n",
    "import matplotlib.pyplot as plt\n",
    "import seaborn as sns\n",
    "import plotly.express as px\n",
    "import dash\n",
    "from dash import dcc, html\n",
    "from dash.dependencies import Input, Output\n",
    "from jupyter_dash import JupyterDash\n",
    "sns.set(style='whitegrid')\n",
    "plt.rcParams['figure.dpi'] = 120\n",
    "np.random.seed(101)"
   ]
  },
  {
   "cell_type": "markdown",
   "metadata": {},
   "source": [
    "## Load Your Data\n",
    "\n",
    "You can load your real results or use a generated synthetic dataset as fallback."
   ]
  },
  {
   "cell_type": "code",
   "execution_count": 3,
   "metadata": {},
   "outputs": [
    {
     "data": {
      "application/vnd.microsoft.datawrangler.viewer.v0+json": {
       "columns": [
        {
         "name": "index",
         "rawType": "int64",
         "type": "integer"
        },
        {
         "name": "scenario",
         "rawType": "object",
         "type": "string"
        },
        {
         "name": "return",
         "rawType": "float64",
         "type": "float"
        },
        {
         "name": "volatility",
         "rawType": "float64",
         "type": "float"
        },
        {
         "name": "sharpe",
         "rawType": "float64",
         "type": "float"
        },
        {
         "name": "assumption",
         "rawType": "object",
         "type": "string"
        },
        {
         "name": "value",
         "rawType": "object",
         "type": "string"
        },
        {
         "name": "Category",
         "rawType": "object",
         "type": "string"
        },
        {
         "name": "MetricA",
         "rawType": "float64",
         "type": "float"
        },
        {
         "name": "MetricB",
         "rawType": "float64",
         "type": "float"
        },
        {
         "name": "Date",
         "rawType": "datetime64[ns]",
         "type": "datetime"
        }
       ],
       "ref": "184587e6-50f6-4bb8-b8f9-3d7cf242371c",
       "rows": [
        [
         "0",
         "baseline",
         "0.12",
         "0.18",
         "0.56",
         "imputation",
         "median",
         "Z",
         "58.804612648530096",
         "146.7579823376279",
         "2025-02-01 00:00:00"
        ],
        [
         "1",
         "alt_impute",
         "0.11",
         "0.185",
         "0.49",
         "imputation",
         "mean",
         "Y",
         "67.47179161557419",
         "195.34330951301934",
         "2025-02-02 00:00:00"
        ],
        [
         "2",
         "alt_outlier",
         "0.135",
         "0.19",
         "0.61",
         "outlier_rule",
         "3sigma",
         "X",
         "72.4778261557572",
         "170.5038282308566",
         "2025-02-03 00:00:00"
        ]
       ],
       "shape": {
        "columns": 10,
        "rows": 3
       }
      },
      "text/html": [
       "<div>\n",
       "<style scoped>\n",
       "    .dataframe tbody tr th:only-of-type {\n",
       "        vertical-align: middle;\n",
       "    }\n",
       "\n",
       "    .dataframe tbody tr th {\n",
       "        vertical-align: top;\n",
       "    }\n",
       "\n",
       "    .dataframe thead th {\n",
       "        text-align: right;\n",
       "    }\n",
       "</style>\n",
       "<table border=\"1\" class=\"dataframe\">\n",
       "  <thead>\n",
       "    <tr style=\"text-align: right;\">\n",
       "      <th></th>\n",
       "      <th>scenario</th>\n",
       "      <th>return</th>\n",
       "      <th>volatility</th>\n",
       "      <th>sharpe</th>\n",
       "      <th>assumption</th>\n",
       "      <th>value</th>\n",
       "      <th>Category</th>\n",
       "      <th>MetricA</th>\n",
       "      <th>MetricB</th>\n",
       "      <th>Date</th>\n",
       "    </tr>\n",
       "  </thead>\n",
       "  <tbody>\n",
       "    <tr>\n",
       "      <th>0</th>\n",
       "      <td>baseline</td>\n",
       "      <td>0.120</td>\n",
       "      <td>0.180</td>\n",
       "      <td>0.56</td>\n",
       "      <td>imputation</td>\n",
       "      <td>median</td>\n",
       "      <td>Z</td>\n",
       "      <td>58.804613</td>\n",
       "      <td>146.757982</td>\n",
       "      <td>2025-02-01</td>\n",
       "    </tr>\n",
       "    <tr>\n",
       "      <th>1</th>\n",
       "      <td>alt_impute</td>\n",
       "      <td>0.110</td>\n",
       "      <td>0.185</td>\n",
       "      <td>0.49</td>\n",
       "      <td>imputation</td>\n",
       "      <td>mean</td>\n",
       "      <td>Y</td>\n",
       "      <td>67.471792</td>\n",
       "      <td>195.343310</td>\n",
       "      <td>2025-02-02</td>\n",
       "    </tr>\n",
       "    <tr>\n",
       "      <th>2</th>\n",
       "      <td>alt_outlier</td>\n",
       "      <td>0.135</td>\n",
       "      <td>0.190</td>\n",
       "      <td>0.61</td>\n",
       "      <td>outlier_rule</td>\n",
       "      <td>3sigma</td>\n",
       "      <td>X</td>\n",
       "      <td>72.477826</td>\n",
       "      <td>170.503828</td>\n",
       "      <td>2025-02-03</td>\n",
       "    </tr>\n",
       "  </tbody>\n",
       "</table>\n",
       "</div>"
      ],
      "text/plain": [
       "      scenario  return  volatility  sharpe    assumption   value Category  \\\n",
       "0     baseline   0.120       0.180    0.56    imputation  median        Z   \n",
       "1   alt_impute   0.110       0.185    0.49    imputation    mean        Y   \n",
       "2  alt_outlier   0.135       0.190    0.61  outlier_rule  3sigma        X   \n",
       "\n",
       "     MetricA     MetricB       Date  \n",
       "0  58.804613  146.757982 2025-02-01  \n",
       "1  67.471792  195.343310 2025-02-02  \n",
       "2  72.477826  170.503828 2025-02-03  "
      ]
     },
     "execution_count": 3,
     "metadata": {},
     "output_type": "execute_result"
    }
   ],
   "source": [
    "data_path = Path('/Users/paramshah/Desktop/bootcamp/homework/stage12_results-reporting-delivery-design-stakeholder-communication/data/final_results.csv')\n",
    "\n",
    "if data_path.exists():\n",
    "    df = pd.read_csv(data_path)\n",
    "else:\n",
    "    df = pd.DataFrame({\n",
    "        'scenario': ['baseline','alt_impute','alt_outlier'],\n",
    "        'return': [0.12, 0.11, 0.135],\n",
    "        'volatility': [0.18, 0.185, 0.19],\n",
    "        'sharpe': [0.56, 0.49, 0.61],\n",
    "        'assumption': ['imputation','imputation','outlier_rule'],\n",
    "        'value': ['median','mean','3sigma'],\n",
    "        'Category': np.random.choice(['X','Y','Z'], 3),\n",
    "        'MetricA': np.random.normal(75, 15, 3),\n",
    "        'MetricB': np.random.normal(150, 30, 3),\n",
    "        'Date': pd.date_range('2025-02-01', periods=3)\n",
    "    })\n",
    "df.head()"
   ]
  },
  {
   "cell_type": "markdown",
   "metadata": {},
   "source": [
    "## Helper: Export Directory"
   ]
  },
  {
   "cell_type": "code",
   "execution_count": 4,
   "metadata": {},
   "outputs": [],
   "source": [
    "img_dir = Path('/Users/paramshah/Desktop/bootcamp/homework/stage12_results-reporting-delivery-design-stakeholder-communication/deliverables/images')\n",
    "img_dir.mkdir(parents=True, exist_ok=True)\n",
    "\n",
    "def savefig(name):\n",
    "    plt.tight_layout()\n",
    "    plt.savefig(img_dir / name, dpi=300)\n",
    "    print(f'Saved {name}')"
   ]
  },
  {
   "cell_type": "markdown",
   "metadata": {},
   "source": [
    "## Chart 1: Risk–Return Scatter"
   ]
  },
  {
   "cell_type": "code",
   "execution_count": 5,
   "metadata": {},
   "outputs": [
    {
     "name": "stdout",
     "output_type": "stream",
     "text": [
      "Saved risk_return.png\n"
     ]
    },
    {
     "data": {
      "image/png": "[encoded data removed]",
      "text/plain": [
       "<Figure size 840x600 with 1 Axes>"
      ]
     },
     "metadata": {},
     "output_type": "display_data"
    }
   ],
   "source": [
    "plt.figure(figsize=(7,5))\n",
    "sns.scatterplot(data=df, x='volatility', y='return', hue='scenario', s=80)\n",
    "plt.title('Risk–Return by Scenario')\n",
    "plt.xlabel('Volatility')\n",
    "plt.ylabel('Return')\n",
    "savefig('risk_return.png')\n",
    "plt.show()"
   ]
  },
  {
   "cell_type": "markdown",
   "metadata": {},
   "source": [
    "## Chart 2: Return by Scenario (Bar Chart)"
   ]
  },
  {
   "cell_type": "code",
   "execution_count": 6,
   "metadata": {},
   "outputs": [
    {
     "name": "stdout",
     "output_type": "stream",
     "text": [
      "Saved return_by_scenario.png\n"
     ]
    },
    {
     "data": {
      "image/png": "[encoded data removed]",
      "text/plain": [
       "<Figure size 840x600 with 1 Axes>"
      ]
     },
     "metadata": {},
     "output_type": "display_data"
    }
   ],
   "source": [
    "plt.figure(figsize=(7,5))\n",
    "sns.barplot(data=df, x='scenario', y='return')\n",
    "plt.title('Return by Scenario')\n",
    "savefig('return_by_scenario.png')\n",
    "plt.show()"
   ]
  },
  {
   "cell_type": "markdown",
   "metadata": {},
   "source": [
    "## Chart 3: MetricA Over Time (Line Chart)"
   ]
  },
  {
   "cell_type": "code",
   "execution_count": 7,
   "metadata": {},
   "outputs": [
    {
     "name": "stdout",
     "output_type": "stream",
     "text": [
      "Saved metricA_over_time.png\n"
     ]
    },
    {
     "data": {
      "image/png": "[encoded data removed]",
      "text/plain": [
       "<Figure size 840x600 with 1 Axes>"
      ]
     },
     "metadata": {},
     "output_type": "display_data"
    }
   ],
   "source": [
    "plt.figure(figsize=(7,5))\n",
    "sns.lineplot(data=df, x='Date', y='MetricA', hue='Category', marker='o')\n",
    "plt.title('MetricA Over Time by Category')\n",
    "plt.xlabel('Date')\n",
    "plt.ylabel('MetricA')\n",
    "savefig('metricA_over_time.png')\n",
    "plt.show()"
   ]
  },
  {
   "cell_type": "markdown",
   "metadata": {},
   "source": [
    "## Sensitivity Analysis / Assumptions Table"
   ]
  },
  {
   "cell_type": "code",
   "execution_count": 8,
   "metadata": {},
   "outputs": [
    {
     "data": {
      "application/vnd.microsoft.datawrangler.viewer.v0+json": {
       "columns": [
        {
         "name": "index",
         "rawType": "int64",
         "type": "integer"
        },
        {
         "name": "Assumption",
         "rawType": "object",
         "type": "string"
        },
        {
         "name": "Baseline Return",
         "rawType": "float64",
         "type": "float"
        },
        {
         "name": "Alt Scenario Return",
         "rawType": "float64",
         "type": "float"
        }
       ],
       "ref": "8caaf402-a3a5-494b-9c1a-4bebc28eca43",
       "rows": [
        [
         "0",
         "Fill Nulls: Median",
         "0.12",
         "0.1"
        ],
        [
         "1",
         "Remove Outliers: 3σ",
         "0.12",
         "0.14"
        ]
       ],
       "shape": {
        "columns": 3,
        "rows": 2
       }
      },
      "text/html": [
       "<div>\n",
       "<style scoped>\n",
       "    .dataframe tbody tr th:only-of-type {\n",
       "        vertical-align: middle;\n",
       "    }\n",
       "\n",
       "    .dataframe tbody tr th {\n",
       "        vertical-align: top;\n",
       "    }\n",
       "\n",
       "    .dataframe thead th {\n",
       "        text-align: right;\n",
       "    }\n",
       "</style>\n",
       "<table border=\"1\" class=\"dataframe\">\n",
       "  <thead>\n",
       "    <tr style=\"text-align: right;\">\n",
       "      <th></th>\n",
       "      <th>Assumption</th>\n",
       "      <th>Baseline Return</th>\n",
       "      <th>Alt Scenario Return</th>\n",
       "    </tr>\n",
       "  </thead>\n",
       "  <tbody>\n",
       "    <tr>\n",
       "      <th>0</th>\n",
       "      <td>Fill Nulls: Median</td>\n",
       "      <td>0.12</td>\n",
       "      <td>0.10</td>\n",
       "    </tr>\n",
       "    <tr>\n",
       "      <th>1</th>\n",
       "      <td>Remove Outliers: 3σ</td>\n",
       "      <td>0.12</td>\n",
       "      <td>0.14</td>\n",
       "    </tr>\n",
       "  </tbody>\n",
       "</table>\n",
       "</div>"
      ],
      "text/plain": [
       "            Assumption  Baseline Return  Alt Scenario Return\n",
       "0   Fill Nulls: Median             0.12                 0.10\n",
       "1  Remove Outliers: 3σ             0.12                 0.14"
      ]
     },
     "execution_count": 8,
     "metadata": {},
     "output_type": "execute_result"
    }
   ],
   "source": [
    "assumptions = pd.DataFrame({\n",
    "    'Assumption': ['Fill Nulls: Median', 'Remove Outliers: 3σ'],\n",
    "    'Baseline Return': [0.12, 0.12],\n",
    "    'Alt Scenario Return': [0.10, 0.14]\n",
    "})\n",
    "assumptions"
   ]
  },
  {
   "cell_type": "markdown",
   "metadata": {},
   "source": [
    "## Interpretations / Takeaways\n",
    "\n",
    "- **Chart 1 takeaway (Risk–Return tradeoff):**  \n",
    "  Outlier treatment (green point) improves returns while only slightly increasing volatility.  \n",
    "  Mean imputation (orange point) lowers returns with higher volatility, the least attractive profile.  \n",
    "  Baseline (blue) is moderate, but not optimal.  \n",
    "  → *Data cleaning choices significantly shift the risk–return balance.*\n",
    "\n",
    "- **Chart 2 takeaway (Return by Scenario):**  \n",
    "  Returns are highest when outliers are treated (13.5%), lowest with mean imputation (11%).  \n",
    "  → *Return outcomes are sensitive to preprocessing assumptions, showing real financial consequences of technical choices.*\n",
    "\n",
    "- **Chart 3 takeaway (MetricA by Category):**  \n",
    "  MetricA varies meaningfully across categories: Z (~58.8), Y (~67.5), X (~72.5).  \n",
    "  → *Category X consistently shows stronger underlying metrics, suggesting greater robustness or upside potential in that grouping.*\n",
    "\n",
    "**Assumptions & Sensitivities:**  \n",
    "- Assumes volatility is a good proxy for risk.  \n",
    "- Assumes Sharpe ratio is an adequate performance measure (may understate tail risks).  \n",
    "- Results are sensitive to data preprocessing (imputation choice, outlier rule).  \n",
    "- Small sample size may not generalize fully.  \n"
   ]
  },
  {
   "cell_type": "markdown",
   "metadata": {},
   "source": [
    "## Decision Implications\n",
    "\n",
    "- **Opportunities:**  \n",
    "  - Applying robust outlier treatment improves portfolio risk-adjusted returns.  \n",
    "  - Category X shows stronger performance on MetricA, which may indicate a priority area for investment or further analysis.\n",
    "\n",
    "- **Risks:**  \n",
    "  - Naive data imputation (mean) reduces performance and introduces potential bias.  \n",
    "  - Over-reliance on Sharpe ratio may mask tail risks.  \n",
    "  - Limited sample size means results should be validated on larger datasets.\n",
    "\n",
    "- **Recommended Next Steps:**  \n",
    "  - Prioritize robust preprocessing (median imputation, outlier filtering) in decision models.  \n",
    "  - Further analyze Category X for sustained advantages.  \n",
    "  - Run sensitivity checks with additional scenarios (e.g., alternative outlier rules, stress testing).  \n",
    "  - Present results with both baseline and adjusted scenarios to stakeholders for transparent decision-making.  \n"
   ]
  }
 ],
 "metadata": {
  "kernelspec": {
   "display_name": "bootcamp_env",
   "language": "python",
   "name": "bootcamp_env"
  },
  "language_info": {
   "codemirror_mode": {
    "name": "ipython",
    "version": 3
   },
   "file_extension": ".py",
   "mimetype": "text/x-python",
   "name": "python",
   "nbconvert_exporter": "python",
   "pygments_lexer": "ipython3",
   "version": "3.10.18"
  }
 },
 "nbformat": 4,
 "nbformat_minor": 5
}
