{
  "cells": [
    {
      "cell_type": "markdown",
      "id": "3848df1c",
      "metadata": {},
      "source": [
        "# Setup: Generate Sample Dataset\n",
        "\n",
        "This cell creates the required folder structure (`data/raw/` and `data/processed/`) relative to the notebook, and generates the sample CSV dataset with missing values. \n",
        "This ensures the dataset is ready for cleaning functions and saves it to `data/raw/outliers_homework.csv`."
      ]
    },
    {
      "cell_type": "code",
      "execution_count": 33,
      "id": "6c50b376",
      "metadata": {},
      "outputs": [
        {
          "name": "stdout",
          "output_type": "stream",
          "text": [
            "File already exists at /Users/paramshah/Desktop/bootcamp/homework/stage07_outliers-risk-assumptions/data/raw/outliers_homework.csv. Skipping CSV creation to avoid overwrite.\n"
          ]
        }
      ],
      "source": [
        "import os\n",
        "import numpy as np\n",
        "import pandas as pd\n",
        "\n",
        "# Define folder paths relative to this notebook\n",
        "raw_dir = '/Users/paramshah/Desktop/bootcamp/homework/stage07_outliers-risk-assumptions/data/raw'\n",
        "processed_dir = '/Users/paramshah/Desktop/bootcamp/homework/stage07_outliers-risk-assumptions/data/processed'\n",
        "\n",
        "# Create folders if they don't exist\n",
        "os.makedirs(raw_dir, exist_ok=True)\n",
        "os.makedirs(processed_dir, exist_ok=True)\n",
        "\n",
        "# Generate business day dates\n",
        "dates = pd.date_range(start=\"2022-01-03\", end=\"2022-06-10\", freq=\"B\")\n",
        "\n",
        "# Fixed random seed for reproducibility\n",
        "np.random.seed(17)\n",
        "\n",
        "# Column 1: daily_return ~ N(0, 0.01)\n",
        "returns = np.random.normal(0, 0.01, size=len(dates))\n",
        "mask_pre_may = dates < \"2022-05-01\"\n",
        "returns[mask_pre_may] -= 0.0015  \n",
        "\n",
        "# Inject \"shock\" values\n",
        "shock_values = {\n",
        "    \"2022-05-02\": 0.1748425237194541,\n",
        "    \"2022-05-03\": -0.16825801732486943,\n",
        "    \"2022-05-06\": -0.19667220757153227,\n",
        "    \"2022-05-09\": 0.21240223590614747,\n",
        "    \"2022-05-12\": -0.178729287231294\n",
        "}\n",
        "for d, v in shock_values.items():\n",
        "    idx = np.where(dates == pd.to_datetime(d))[0][0]\n",
        "    returns[idx] = v\n",
        "\n",
        "# Column 2: daily_return_2, correlated with daily_return + small noise\n",
        "daily_return_2 = returns * 0.6 + np.random.normal(0, 0.005, size=len(dates))\n",
        "\n",
        "# Create DataFrame with two numeric columns\n",
        "df = pd.DataFrame({\n",
        "    \"date\": dates,\n",
        "    \"daily_return\": returns,\n",
        "    \"daily_return_2\": daily_return_2\n",
        "})\n",
        "\n",
        "# Save to CSV in raw data folder\n",
        "csv_path = os.path.join(raw_dir, 'outliers_homework.csv')\n",
        "if not os.path.exists(csv_path):\n",
        "    df.to_csv(csv_path, index=False)\n",
        "    print(f'Synthetic dataset with two columns created and saved to {csv_path}')\n",
        "else:\n",
        "    print(f'File already exists at {csv_path}. Skipping CSV creation to avoid overwrite.')"
      ]
    },
    {
      "cell_type": "markdown",
      "metadata": {},
      "source": [
        "# Stage 7 Homework — Outliers + Risk Assumptions\n",
        "In this assignment you will implement outlier detection/handling and run a simple sensitivity analysis.\n",
        "\n",
        "**Chain:** In the lecture, we learned detection (IQR, Z-score), options for handling (remove/winsorize), and sensitivity testing. Now, you will adapt those methods to a provided dataset and document the risks and assumptions behind your choices."
      ]
    },
    {
      "cell_type": "code",
      "execution_count": 34,
      "metadata": {},
      "outputs": [],
      "source": [
        "# Setup\n",
        "import numpy as np\n",
        "import pandas as pd\n",
        "import matplotlib.pyplot as plt\n",
        "from pathlib import Path\n",
        "import seaborn as sns\n",
        "from sklearn.linear_model import LinearRegression\n",
        "from sklearn.metrics import mean_absolute_error, r2_score\n",
        "np.random.seed(72)"
      ]
    },
    {
      "cell_type": "markdown",
      "metadata": {},
      "source": [
        "## Load Data (provided or synthetic fallback)"
      ]
    },
    {
      "cell_type": "code",
      "execution_count": 35,
      "metadata": {},
      "outputs": [
        {
          "data": {
            "application/vnd.microsoft.datawrangler.viewer.v0+json": {
              "columns": [
                {
                  "name": "index",
                  "rawType": "int64",
                  "type": "integer"
                },
                {
                  "name": "x",
                  "rawType": "float64",
                  "type": "float"
                },
                {
                  "name": "y",
                  "rawType": "float64",
                  "type": "float"
                }
              ],
              "ref": "4aac156a-17cf-4a3c-8dbf-95bd9e4df744",
              "rows": [
                [
                  "0",
                  "0.0",
                  "1.3822545988789818"
                ],
                [
                  "1",
                  "0.05025125628140704",
                  "0.29508144241260403"
                ],
                [
                  "2",
                  "0.10050251256281408",
                  "-1.4289606357575755"
                ],
                [
                  "3",
                  "0.15075376884422112",
                  "2.0399464867663673"
                ],
                [
                  "4",
                  "0.20100502512562815",
                  "3.4519303078016192"
                ]
              ],
              "shape": {
                "columns": 2,
                "rows": 5
              }
            },
            "text/html": [
              "<div>\n",
              "<style scoped>\n",
              "    .dataframe tbody tr th:only-of-type {\n",
              "        vertical-align: middle;\n",
              "    }\n",
              "\n",
              "    .dataframe tbody tr th {\n",
              "        vertical-align: top;\n",
              "    }\n",
              "\n",
              "    .dataframe thead th {\n",
              "        text-align: right;\n",
              "    }\n",
              "</style>\n",
              "<table border=\"1\" class=\"dataframe\">\n",
              "  <thead>\n",
              "    <tr style=\"text-align: right;\">\n",
              "      <th></th>\n",
              "      <th>x</th>\n",
              "      <th>y</th>\n",
              "    </tr>\n",
              "  </thead>\n",
              "  <tbody>\n",
              "    <tr>\n",
              "      <th>0</th>\n",
              "      <td>0.000000</td>\n",
              "      <td>1.382255</td>\n",
              "    </tr>\n",
              "    <tr>\n",
              "      <th>1</th>\n",
              "      <td>0.050251</td>\n",
              "      <td>0.295081</td>\n",
              "    </tr>\n",
              "    <tr>\n",
              "      <th>2</th>\n",
              "      <td>0.100503</td>\n",
              "      <td>-1.428961</td>\n",
              "    </tr>\n",
              "    <tr>\n",
              "      <th>3</th>\n",
              "      <td>0.150754</td>\n",
              "      <td>2.039946</td>\n",
              "    </tr>\n",
              "    <tr>\n",
              "      <th>4</th>\n",
              "      <td>0.201005</td>\n",
              "      <td>3.451930</td>\n",
              "    </tr>\n",
              "  </tbody>\n",
              "</table>\n",
              "</div>"
            ],
            "text/plain": [
              "          x         y\n",
              "0  0.000000  1.382255\n",
              "1  0.050251  0.295081\n",
              "2  0.100503 -1.428961\n",
              "3  0.150754  2.039946\n",
              "4  0.201005  3.451930"
            ]
          },
          "execution_count": 35,
          "metadata": {},
          "output_type": "execute_result"
        }
      ],
      "source": [
        "data_path = Path('data/raw/outliers_homework.csv')\n",
        "if data_path.exists():\n",
        "    df = pd.read_csv(data_path)\n",
        "else:\n",
        "    x = np.linspace(0, 10, 200)\n",
        "    y = 2.2 * x + 1 + np.random.normal(0, 1.2, size=x.size)\n",
        "    y[10] += 15; y[120] -= 13; y[160] += 18\n",
        "    df = pd.DataFrame({'x': x, 'y': y})\n",
        "df.head()"
      ]
    },
    {
      "cell_type": "markdown",
      "metadata": {},
      "source": [
        "## TODO: Implement Outlier Functions (required)"
      ]
    },
    {
      "cell_type": "code",
      "execution_count": 36,
      "metadata": {
        "tags": [
          "grade_required"
        ]
      },
      "outputs": [],
      "source": [
        "def detect_outliers_iqr(series: pd.Series, k: float = 1.5) -> pd.Series:\n",
        "    \"\"\"Return boolean mask for IQR-based outliers.\n",
        "    Assumptions: distribution reasonably summarized by quartiles; k controls strictness.\n",
        "    \"\"\"\n",
        "    q1 = series.quantile(0.25)\n",
        "    q3 = series.quantile(0.75)\n",
        "    iqr = q3 - q1\n",
        "    lower = q1 - k * iqr\n",
        "    upper = q3 + k * iqr\n",
        "    return (series < lower) | (series > upper)\n",
        "\n",
        "def detect_outliers_zscore(series: pd.Series, threshold: float = 3.0) -> pd.Series:\n",
        "    \"\"\"Return boolean mask for Z-score outliers where |z| > threshold.\n",
        "    Assumptions: roughly normal distribution; sensitive to heavy tails.\n",
        "    \"\"\"\n",
        "    mu = series.mean()\n",
        "    sigma = series.std(ddof=0)\n",
        "    z = (series - mu) / (sigma if sigma != 0 else 1.0)\n",
        "    return z.abs() > threshold"
      ]
    },
    {
      "cell_type": "markdown",
      "metadata": {},
      "source": [
        "*(Stretch)* Implement winsorizing (optional)."
      ]
    },
    {
      "cell_type": "code",
      "execution_count": 37,
      "metadata": {
        "tags": [
          "stretch"
        ]
      },
      "outputs": [],
      "source": [
        "def winsorize_series(series: pd.Series, lower: float = 0.05, upper: float = 0.95) -> pd.Series:\n",
        "    lo = series.quantile(lower)\n",
        "    hi = series.quantile(upper)\n",
        "    return series.clip(lower=lo, upper=hi)"
      ]
    },
    {
      "cell_type": "markdown",
      "metadata": {},
      "source": [
        "## Apply Detection and Create Flags (choose a numeric column)"
      ]
    },
    {
      "cell_type": "code",
      "execution_count": 38,
      "metadata": {
        "tags": [
          "grade_required"
        ]
      },
      "outputs": [
        {
          "data": {
            "application/vnd.microsoft.datawrangler.viewer.v0+json": {
              "columns": [
                {
                  "name": "index",
                  "rawType": "object",
                  "type": "string"
                },
                {
                  "name": "0",
                  "rawType": "float64",
                  "type": "float"
                }
              ],
              "ref": "b0828f72-7a3e-4ec6-8d28-4ac1753e7dc0",
              "rows": [
                [
                  "outlier_iqr",
                  "0.005"
                ],
                [
                  "outlier_z",
                  "0.005"
                ],
                [
                  "outlier_wins",
                  "0.1"
                ]
              ],
              "shape": {
                "columns": 1,
                "rows": 3
              }
            },
            "text/plain": [
              "outlier_iqr     0.005\n",
              "outlier_z       0.005\n",
              "outlier_wins    0.100\n",
              "dtype: float64"
            ]
          },
          "execution_count": 38,
          "metadata": {},
          "output_type": "execute_result"
        }
      ],
      "source": [
        "target_col = 'y' if 'y' in df.columns else df.select_dtypes(include=['number']).columns[0]\n",
        "df['outlier_iqr'] = detect_outliers_iqr(df[target_col])\n",
        "df['outlier_z'] = detect_outliers_zscore(df[target_col], threshold=3.0)\n",
        "wins = winsorize_series(df[target_col])\n",
        "df['outlier_wins'] = df[target_col] != wins   # True if clipped\n",
        "df[['outlier_iqr', 'outlier_z','outlier_wins']].mean()"
      ]
    },
    {
      "cell_type": "code",
      "execution_count": 39,
      "id": "53e6aeb0",
      "metadata": {},
      "outputs": [],
      "source": [
        "df['y_wins'] = winsorize_series(df[target_col]) # fraction flagged"
      ]
    },
    {
      "cell_type": "markdown",
      "metadata": {},
      "source": [
        "### Visual Checks (boxplot / histogram)"
      ]
    },
    {
      "cell_type": "code",
      "execution_count": 40,
      "metadata": {},
      "outputs": [
        {
          "data": {
            "image/png": "[encoded data removed]",
            "text/plain": [
              "<Figure size 640x480 with 1 Axes>"
            ]
          },
          "metadata": {},
          "output_type": "display_data"
        },
        {
          "data": {
            "image/png": "[encoded data removed]",
            "text/plain": [
              "<Figure size 640x480 with 1 Axes>"
            ]
          },
          "metadata": {},
          "output_type": "display_data"
        }
      ],
      "source": [
        "plt.figure()\n",
        "plt.boxplot(df[target_col])\n",
        "plt.title(f'Boxplot: {target_col}')\n",
        "plt.show()\n",
        "\n",
        "plt.figure()\n",
        "plt.hist(df[target_col], bins=30)\n",
        "plt.title(f'Histogram: {target_col}')\n",
        "plt.show()"
      ]
    },
    {
      "cell_type": "markdown",
      "metadata": {},
      "source": [
        "## Sensitivity Analysis\n",
        "Pick one: summary stats or simple linear regression comparing **all vs. filtered** (and optional winsorized)."
      ]
    },
    {
      "cell_type": "code",
      "execution_count": 41,
      "metadata": {
        "tags": [
          "grade_required"
        ]
      },
      "outputs": [
        {
          "data": {
            "application/vnd.microsoft.datawrangler.viewer.v0+json": {
              "columns": [
                {
                  "name": "index",
                  "rawType": "object",
                  "type": "string"
                },
                {
                  "name": "all",
                  "rawType": "float64",
                  "type": "float"
                },
                {
                  "name": "filtered_iqr",
                  "rawType": "float64",
                  "type": "float"
                },
                {
                  "name": "winsorized",
                  "rawType": "float64",
                  "type": "float"
                }
              ],
              "ref": "371a6188-e708-4102-a7e9-ab676da4396b",
              "rows": [
                [
                  "mean",
                  "12.108612440787432",
                  "11.975873928988921",
                  "12.079536188677952"
                ],
                [
                  "median",
                  "12.452337514555708",
                  "12.362017923213838",
                  "12.452337514555708"
                ],
                [
                  "std",
                  "6.783348906957298",
                  "6.534869198815327",
                  "6.400801250058598"
                ]
              ],
              "shape": {
                "columns": 3,
                "rows": 3
              }
            },
            "text/html": [
              "<div>\n",
              "<style scoped>\n",
              "    .dataframe tbody tr th:only-of-type {\n",
              "        vertical-align: middle;\n",
              "    }\n",
              "\n",
              "    .dataframe tbody tr th {\n",
              "        vertical-align: top;\n",
              "    }\n",
              "\n",
              "    .dataframe thead th {\n",
              "        text-align: right;\n",
              "    }\n",
              "</style>\n",
              "<table border=\"1\" class=\"dataframe\">\n",
              "  <thead>\n",
              "    <tr style=\"text-align: right;\">\n",
              "      <th></th>\n",
              "      <th>all</th>\n",
              "      <th>filtered_iqr</th>\n",
              "      <th>winsorized</th>\n",
              "    </tr>\n",
              "  </thead>\n",
              "  <tbody>\n",
              "    <tr>\n",
              "      <th>mean</th>\n",
              "      <td>12.108612</td>\n",
              "      <td>11.975874</td>\n",
              "      <td>12.079536</td>\n",
              "    </tr>\n",
              "    <tr>\n",
              "      <th>median</th>\n",
              "      <td>12.452338</td>\n",
              "      <td>12.362018</td>\n",
              "      <td>12.452338</td>\n",
              "    </tr>\n",
              "    <tr>\n",
              "      <th>std</th>\n",
              "      <td>6.783349</td>\n",
              "      <td>6.534869</td>\n",
              "      <td>6.400801</td>\n",
              "    </tr>\n",
              "  </tbody>\n",
              "</table>\n",
              "</div>"
            ],
            "text/plain": [
              "              all  filtered_iqr  winsorized\n",
              "mean    12.108612     11.975874   12.079536\n",
              "median  12.452338     12.362018   12.452338\n",
              "std      6.783349      6.534869    6.400801"
            ]
          },
          "execution_count": 41,
          "metadata": {},
          "output_type": "execute_result"
        }
      ],
      "source": [
        "# Option A: Summary stats\n",
        "summ_all = df[target_col].describe()[['mean', '50%', 'std']].rename({'50%': 'median'})\n",
        "summ_filtered = df.loc[~df['outlier_iqr'], target_col].describe()[['mean', '50%', 'std']].rename({'50%': 'median'})\n",
        "summ_w = None\n",
        "if 'winsorize_series' in globals():\n",
        "    w = winsorize_series(df[target_col])\n",
        "    summ_w = w.describe()[['mean', '50%', 'std']].rename({'50%': 'median'})\n",
        "\n",
        "comp = pd.concat(\n",
        "    {\n",
        "        'all': summ_all,\n",
        "        'filtered_iqr': summ_filtered,\n",
        "        **({'winsorized': summ_w} if summ_w is not None else {})\n",
        "    }, axis=1\n",
        ")\n",
        "comp"
      ]
    },
    {
      "cell_type": "markdown",
      "id": "782ca9da",
      "metadata": {},
      "source": [
        "## running regression tests"
      ]
    },
    {
      "cell_type": "code",
      "execution_count": 42,
      "metadata": {
        "tags": [
          "grade_required"
        ]
      },
      "outputs": [
        {
          "data": {
            "application/vnd.microsoft.datawrangler.viewer.v0+json": {
              "columns": [
                {
                  "name": "index",
                  "rawType": "object",
                  "type": "string"
                },
                {
                  "name": "coef",
                  "rawType": "float64",
                  "type": "float"
                },
                {
                  "name": "intercept",
                  "rawType": "float64",
                  "type": "float"
                },
                {
                  "name": "r2",
                  "rawType": "float64",
                  "type": "float"
                },
                {
                  "name": "mae",
                  "rawType": "float64",
                  "type": "float"
                }
              ],
              "ref": "30230484-3a6e-4701-aed2-c43d9027721d",
              "rows": [
                [
                  "original",
                  "2.177985881034803",
                  "1.2186830356134148",
                  "0.8720883050828396",
                  "1.279517021874138"
                ],
                [
                  "iqr_filtered",
                  "2.141860529577452",
                  "1.299293323989323",
                  "0.9083056157257754",
                  "1.198342659760962"
                ],
                [
                  "winsorized",
                  "2.1058769593420603",
                  "1.550151391967649",
                  "0.9156636115434625",
                  "1.1397633780313376"
                ]
              ],
              "shape": {
                "columns": 4,
                "rows": 3
              }
            },
            "text/html": [
              "<div>\n",
              "<style scoped>\n",
              "    .dataframe tbody tr th:only-of-type {\n",
              "        vertical-align: middle;\n",
              "    }\n",
              "\n",
              "    .dataframe tbody tr th {\n",
              "        vertical-align: top;\n",
              "    }\n",
              "\n",
              "    .dataframe thead th {\n",
              "        text-align: right;\n",
              "    }\n",
              "</style>\n",
              "<table border=\"1\" class=\"dataframe\">\n",
              "  <thead>\n",
              "    <tr style=\"text-align: right;\">\n",
              "      <th></th>\n",
              "      <th>coef</th>\n",
              "      <th>intercept</th>\n",
              "      <th>r2</th>\n",
              "      <th>mae</th>\n",
              "    </tr>\n",
              "  </thead>\n",
              "  <tbody>\n",
              "    <tr>\n",
              "      <th>original</th>\n",
              "      <td>2.177986</td>\n",
              "      <td>1.218683</td>\n",
              "      <td>0.872088</td>\n",
              "      <td>1.279517</td>\n",
              "    </tr>\n",
              "    <tr>\n",
              "      <th>iqr_filtered</th>\n",
              "      <td>2.141861</td>\n",
              "      <td>1.299293</td>\n",
              "      <td>0.908306</td>\n",
              "      <td>1.198343</td>\n",
              "    </tr>\n",
              "    <tr>\n",
              "      <th>winsorized</th>\n",
              "      <td>2.105877</td>\n",
              "      <td>1.550151</td>\n",
              "      <td>0.915664</td>\n",
              "      <td>1.139763</td>\n",
              "    </tr>\n",
              "  </tbody>\n",
              "</table>\n",
              "</div>"
            ],
            "text/plain": [
              "                  coef  intercept        r2       mae\n",
              "original      2.177986   1.218683  0.872088  1.279517\n",
              "iqr_filtered  2.141861   1.299293  0.908306  1.198343\n",
              "winsorized    2.105877   1.550151  0.915664  1.139763"
            ]
          },
          "execution_count": 42,
          "metadata": {},
          "output_type": "execute_result"
        }
      ],
      "source": [
        "def run_regression(x, y):\n",
        "    model = LinearRegression()\n",
        "    model.fit(x.reshape(-1, 1), y)\n",
        "    y_pred = model.predict(x.reshape(-1, 1))\n",
        "    return {\n",
        "        \"coef\": model.coef_[0],\n",
        "        \"intercept\": model.intercept_,\n",
        "        \"r2\": r2_score(y, y_pred),\n",
        "        \"mae\": mean_absolute_error(y, y_pred)\n",
        "    }\n",
        "\n",
        "results = {}\n",
        "\n",
        "# Original\n",
        "results[\"original\"] = run_regression(df[\"x\"].values, df[\"y\"].values)\n",
        "\n",
        "# IQR filtered\n",
        "results[\"iqr_filtered\"] = run_regression(\n",
        "    df.loc[~df[\"outlier_iqr\"], \"x\"].values,\n",
        "    df.loc[~df[\"outlier_iqr\"], \"y\"].values\n",
        ")\n",
        "\n",
        "# Winsorized\n",
        "results[\"winsorized\"] = run_regression(df[\"x\"].values, df[\"y_wins\"].values)\n",
        "\n",
        "results_df = pd.DataFrame(results).T\n",
        "results_df\n"
      ]
    },
    {
      "cell_type": "markdown",
      "metadata": {},
      "source": [
        "### Reflection (≤ 1 page)\n",
        "- Methods and thresholds used (and why)\n",
        "- Assumptions behind choices\n",
        "- Observed impact on results\n",
        "- Risks if assumptions are wrong (e.g., discarding true events)"
      ]
    },
    {
      "cell_type": "markdown",
      "metadata": {},
      "source": [
        "## Reflection on Outliers, Assumptions, and Sensitivity Analysis\n",
        "\n",
        "### Methods and Thresholds\n",
        "For this analysis, I applied three approaches:\n",
        "- **Baseline (all data):** No outlier treatment.\n",
        "- **IQR filtering:** Outliers flagged using the interquartile range with *k = 1.5* and removed.\n",
        "- **Winsorizing:** Values below the 5th percentile and above the 95th percentile were clipped.\n",
        "\n",
        "The IQR method was chosen for its robustness to skewed distributions and minimal assumptions. Winsorizing was included as a compromise between keeping all observations and reducing the influence of extremes.\n",
        "\n",
        "### Observed Impacts\n",
        "**Summary statistics:**  \n",
        "- The **mean** shifted only slightly across treatments (12.11 → 11.98 with IQR filtering → 12.08 with winsorizing).  \n",
        "- The **median** remained almost identical, indicating that central tendency was stable.  \n",
        "- The **standard deviation** decreased (6.78 → 6.53 → 6.40), showing that both filtering and winsorizing reduced variability.\n",
        "\n",
        "**Regression results:**  \n",
        "- The **slope (coef)** decreased from 2.18 (original) → 2.14 (IQR) → 2.11 (winsorized).  \n",
        "- The **R²** improved with outlier handling (0.87 → 0.91), suggesting a tighter fit once extremes were controlled.  \n",
        "- The **MAE** dropped (1.28 → 1.20 → 1.14), indicating better predictive accuracy after treatment.  \n",
        "- Winsorizing gave the most stable results, reducing error while still retaining all data points.\n",
        "\n",
        "### Assumptions\n",
        "- I assumed that extreme values in the dataset were **not representative of the true process** (e.g., recording or sampling anomalies).  \n",
        "- IQR assumes a distribution where quartiles are meaningful cutoffs.  \n",
        "- Winsorizing assumes that clipping extremes provides a better estimate of central tendency without discarding information.\n",
        "\n",
        "### Risks if Assumptions Are Wrong\n",
        "- If the flagged points are actually **true rare events**, filtering or winsorizing could understate real variability and bias conclusions.  \n",
        "- Using the IQR rule may misclassify outliers in **heavy-tailed or skewed distributions**.  \n",
        "- Winsorizing hides outliers instead of addressing their cause, which may give a false sense of robustness.  \n",
        "- Over-reliance on improved R² and MAE could lead to **overconfidence** in the model if important signals are mistakenly treated as noise.\n",
        "\n",
        "### Conclusion\n",
        "Outlier treatment in this dataset had **limited impact on central tendency** but **notable improvements in model fit and predictive accuracy**. This shows that while outliers did not distort the average much, they did meaningfully influence regression results. The balance between filtering (removing data) and winsorizing (transforming data) should be made carefully, depending on whether outliers are believed to be errors or genuine phenomena.\n"
      ]
    },
    {
      "cell_type": "markdown",
      "id": "6e83f508",
      "metadata": {},
      "source": []
    }
  ],
  "metadata": {
    "kernelspec": {
      "display_name": "bootcamp_env",
      "language": "python",
      "name": "bootcamp_env"
    },
    "language_info": {
      "codemirror_mode": {
        "name": "ipython",
        "version": 3
      },
      "file_extension": ".py",
      "mimetype": "text/x-python",
      "name": "python",
      "nbconvert_exporter": "python",
      "pygments_lexer": "ipython3",
      "version": "3.10.18"
    }
  },
  "nbformat": 4,
  "nbformat_minor": 5
}
